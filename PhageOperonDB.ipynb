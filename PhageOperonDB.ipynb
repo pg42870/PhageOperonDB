{
 "cells": [
  {
   "cell_type": "code",
   "execution_count": 2,
   "id": "5bb69a77",
   "metadata": {},
   "outputs": [],
   "source": [
    "from getpass import getpass\n",
    "from mysql.connector import connect, Error\n",
    "import mysql\n"
   ]
  },
  {
   "cell_type": "code",
   "execution_count": 49,
   "id": "1043442b",
   "metadata": {},
   "outputs": [
    {
     "name": "stdout",
     "output_type": "stream",
     "text": [
      "Enter username: root\n",
      "Enter password: ········\n"
     ]
    }
   ],
   "source": [
    "mydb = connect(\n",
    "            host=\"localhost\",\n",
    "            user=input(\"Enter username: \"),\n",
    "            password=getpass(\"Enter password: \"))"
   ]
  },
  {
   "cell_type": "code",
   "execution_count": 50,
   "id": "db7151f4",
   "metadata": {},
   "outputs": [],
   "source": [
    "mycursor = mydb.cursor()\n",
    "\n",
    "mycursor.execute(\"CREATE DATABASE PhageOperonDB\")"
   ]
  },
  {
   "cell_type": "markdown",
   "id": "09cddd4b",
   "metadata": {},
   "source": [
    "So for now on, we just use this:"
   ]
  },
  {
   "cell_type": "code",
   "execution_count": 3,
   "id": "444f69ae",
   "metadata": {},
   "outputs": [
    {
     "name": "stdout",
     "output_type": "stream",
     "text": [
      "Enter username: root\n",
      "Enter password: ········\n"
     ]
    }
   ],
   "source": [
    "mydb = connect(\n",
    "            host=\"localhost\",\n",
    "            user=input(\"Enter username: \"),\n",
    "            password=getpass(\"Enter password: \"),\n",
    "            database = \"PhageOperonDB\")"
   ]
  },
  {
   "cell_type": "code",
   "execution_count": 4,
   "id": "3374108f",
   "metadata": {},
   "outputs": [
    {
     "name": "stdout",
     "output_type": "stream",
     "text": [
      "('gene',)\n",
      "('operon',)\n",
      "('organism',)\n",
      "('organism_has_gene',)\n",
      "('organism_has_operon',)\n",
      "('promoter',)\n",
      "('references',)\n",
      "('terminator',)\n"
     ]
    }
   ],
   "source": [
    "mycursor = mydb.cursor()\n",
    "mycursor.execute(\"SHOW TABLES\")\n",
    "\n",
    "for x in mycursor:\n",
    "  print(x)"
   ]
  },
  {
   "cell_type": "code",
   "execution_count": 53,
   "id": "db71e443",
   "metadata": {},
   "outputs": [],
   "source": [
    "def create_tables(connection, cursor, file_list):\n",
    "    f = open(file_list, 'r')\n",
    "    files = f.readlines()\n",
    "    for t in files:\n",
    "        #print(t)\n",
    "        query = create_query(t.strip())\n",
    "        cursor.execute(query)\n",
    "    connection.commit()\n",
    "        "
   ]
  },
  {
   "cell_type": "code",
   "execution_count": 54,
   "id": "7b5a1197",
   "metadata": {},
   "outputs": [],
   "source": [
    "def create_query(file):\n",
    "    f = open(file, 'r')\n",
    "    query = \" \".join(f.readlines())\n",
    "    #print(query)\n",
    "    return query"
   ]
  },
  {
   "cell_type": "code",
   "execution_count": 55,
   "id": "68540356",
   "metadata": {},
   "outputs": [],
   "source": [
    "create_tables(mydb, mycursor, 'table_order.txt')"
   ]
  },
  {
   "cell_type": "code",
   "execution_count": 56,
   "id": "977aa1ff",
   "metadata": {},
   "outputs": [
    {
     "name": "stdout",
     "output_type": "stream",
     "text": [
      "('gene',)\n",
      "('operon',)\n",
      "('organism',)\n",
      "('organism_has_gene',)\n",
      "('organism_has_operon',)\n",
      "('promoter',)\n",
      "('references',)\n",
      "('terminator',)\n"
     ]
    }
   ],
   "source": [
    "mycursor.execute(\"SHOW TABLES\")\n",
    "\n",
    "for x in mycursor:\n",
    "  print(x)"
   ]
  },
  {
   "cell_type": "code",
   "execution_count": 48,
   "id": "bdd1503b",
   "metadata": {},
   "outputs": [],
   "source": [
    "drop_table_query = \"DROP database PhageOperonDB\"\n",
    "mycursor.execute(drop_table_query)"
   ]
  },
  {
   "cell_type": "code",
   "execution_count": 107,
   "id": "fb8bac44",
   "metadata": {},
   "outputs": [],
   "source": [
    "mycursor.execute(\"DELETE FROM PhageOperonDB.Gene;\")"
   ]
  },
  {
   "cell_type": "markdown",
   "id": "71b09df4",
   "metadata": {},
   "source": [
    "# Insert data into References Table"
   ]
  },
  {
   "cell_type": "code",
   "execution_count": 57,
   "id": "ed655b64",
   "metadata": {},
   "outputs": [],
   "source": [
    "%run insert_citations.py"
   ]
  },
  {
   "cell_type": "code",
   "execution_count": 58,
   "id": "c5bc403c",
   "metadata": {},
   "outputs": [
    {
     "data": {
      "text/plain": [
       "'INSERT INTO PhageOperonDB.References (Citation) VALUES (%s)'"
      ]
     },
     "execution_count": 58,
     "metadata": {},
     "output_type": "execute_result"
    }
   ],
   "source": [
    "insert_citations"
   ]
  },
  {
   "cell_type": "code",
   "execution_count": 59,
   "id": "bed60ad6",
   "metadata": {},
   "outputs": [
    {
     "data": {
      "text/plain": [
       "[('G. Fabozzi; L. Paolozzi; P. Ghelardini (1998).Regulation of the Bacteriophage MugemOperon. , 241(1), 73–79.doi:10.1006/viro.1997.8948',),\n",
       " ('Stanley Hattman (1999).Unusual transcriptional and translational regulation of the bacteriophage Mu mom operon. , 84(3), 367–388.doi:10.1016/s0163-7258(99)00042-x',),\n",
       " ('Zha, J; Zhao, Z; Howe, M M (1994).Identification and characterization of the terminators of the lys and P transcripts of bacteriophage Mu.. Journal of Bacteriology, 176(4), 1111–1120.doi:10.1128/jb.176.4.1111-1120.1994',),\n",
       " ('Kahmeyer-Gabbe, M; Howe, M M (1996). Regulatory factors acting at the bacteriophage Mu middle promoter.. Journal of Bacteriology, 178(6), 1585–1592. doi:10.1128/jb.178.6.1585-1592.1996 ; Characterization of the C operon transcript of bacteriophage Mu.. Journal of Bacteriology, 172(1), 361–371. doi:10.1128/jb.172.1.361-371.1990 ',),\n",
       " ('Condon, C. (2014).Reference Module in Biomedical Sciences || RNA Processing☆. , (), –.doi:10.1016/B978-0-12-801238-3.02455-7',),\n",
       " ('Casjens, Sherwood R.; Hendrix, Roger W. (2015).Bacteriophage lambda: Early pioneer and still relevant. Virology, 479-480(), 310–330.doi:10.1016/j.virol.2015.02.010',),\n",
       " ('Douglas Fix (1993).The rex genes of lambda prophage modify ultraviolet light and N-methyl-N-nitrosourea-induced responses to DNA damage in Escherichia coli. , 303(4), 143–150.doi:10.1016/0165-7992(93)90015-n',),\n",
       " ('Villafane, R., Zayas, M., Gilcrease, E.B.et al.Genomic analysis of bacteriophage ε34ofSalmonella entericaserovar Anatum (15+).BMC Microbiol8, 227 (2008). https://doi.org/10.1186/1471-2180-8-227',),\n",
       " ('        Semerjian, Arlene V.; Malloy, Diane C.; Poteete, Anthony R. (1989). Genetic structure of the bacteriophage P22 PL operon. , 207(1), 1–13.         doi:10.1016/0022-2836(89)90437-3    ',)]"
      ]
     },
     "execution_count": 59,
     "metadata": {},
     "output_type": "execute_result"
    }
   ],
   "source": [
    "citation_records"
   ]
  },
  {
   "cell_type": "code",
   "execution_count": 60,
   "id": "8819fcec",
   "metadata": {},
   "outputs": [],
   "source": [
    "mycursor.executemany(insert_citations, citation_records)\n",
    "mydb.commit()"
   ]
  },
  {
   "cell_type": "code",
   "execution_count": 61,
   "id": "431e8cc9",
   "metadata": {},
   "outputs": [
    {
     "name": "stdout",
     "output_type": "stream",
     "text": [
      "(1, 'G. Fabozzi; L. Paolozzi; P. Ghelardini (1998).Regulation of the Bacteriophage MugemOperon. , 241(1), 73–79.doi:10.1006/viro.1997.8948')\n",
      "(2, 'Stanley Hattman (1999).Unusual transcriptional and translational regulation of the bacteriophage Mu mom operon. , 84(3), 367–388.doi:10.1016/s0163-7258(99)00042-x')\n",
      "(3, 'Zha, J; Zhao, Z; Howe, M M (1994).Identification and characterization of the terminators of the lys and P transcripts of bacteriophage Mu.. Journal of Bacteriology, 176(4), 1111–1120.doi:10.1128/jb.176.4.1111-1120.1994')\n",
      "(4, 'Kahmeyer-Gabbe, M; Howe, M M (1996). Regulatory factors acting at the bacteriophage Mu middle promoter.. Journal of Bacteriology, 178(6), 1585–1592. doi:10.1128/jb.178.6.1585-1592.1996 ; Characterization of the C operon transcript of bacteriophage Mu.. Journal of Bacteriology, 172(1), 361–371. doi:10.1128/jb.172.1.361-371.1990 ')\n",
      "(5, 'Condon, C. (2014).Reference Module in Biomedical Sciences || RNA Processing☆. , (), –.doi:10.1016/B978-0-12-801238-3.02455-7')\n",
      "(6, 'Casjens, Sherwood R.; Hendrix, Roger W. (2015).Bacteriophage lambda: Early pioneer and still relevant. Virology, 479-480(), 310–330.doi:10.1016/j.virol.2015.02.010')\n",
      "(7, 'Douglas Fix (1993).The rex genes of lambda prophage modify ultraviolet light and N-methyl-N-nitrosourea-induced responses to DNA damage in Escherichia coli. , 303(4), 143–150.doi:10.1016/0165-7992(93)90015-n')\n",
      "(8, 'Villafane, R., Zayas, M., Gilcrease, E.B.et al.Genomic analysis of bacteriophage ε34ofSalmonella entericaserovar Anatum (15+).BMC Microbiol8, 227 (2008). https://doi.org/10.1186/1471-2180-8-227')\n",
      "(9, '        Semerjian, Arlene V.; Malloy, Diane C.; Poteete, Anthony R. (1989). Genetic structure of the bacteriophage P22 PL operon. , 207(1), 1–13.         doi:10.1016/0022-2836(89)90437-3    ')\n"
     ]
    }
   ],
   "source": [
    "select_references_query = \"SELECT * FROM PhageOperonDB.References\"\n",
    "mycursor.execute(select_references_query)\n",
    "result = mycursor.fetchall()\n",
    "for row in result:\n",
    "    print(row)"
   ]
  },
  {
   "cell_type": "markdown",
   "id": "7b386bbb",
   "metadata": {},
   "source": [
    "# Insert Data into Operon Table"
   ]
  },
  {
   "cell_type": "code",
   "execution_count": 62,
   "id": "45ab812f",
   "metadata": {},
   "outputs": [],
   "source": [
    "%run insert_operons.py"
   ]
  },
  {
   "cell_type": "code",
   "execution_count": 63,
   "id": "8dc1e924",
   "metadata": {},
   "outputs": [
    {
     "data": {
      "text/plain": [
       "'INSERT INTO PhageOperonDB.Operon (Name, idReferences) VALUES (%s, %s)'"
      ]
     },
     "execution_count": 63,
     "metadata": {},
     "output_type": "execute_result"
    }
   ],
   "source": [
    "insert_operons"
   ]
  },
  {
   "cell_type": "code",
   "execution_count": 64,
   "id": "b01614d8",
   "metadata": {},
   "outputs": [
    {
     "data": {
      "text/plain": [
       "[('gem operon', '1'),\n",
       " ('Mom operon', '2'),\n",
       " ('I operon', '3'),\n",
       " ('lys operon', '3'),\n",
       " ('P operon', '3'),\n",
       " ('middle operon', '4'),\n",
       " ('T7 early operon', '5'),\n",
       " ('phage lambda leftward operon', '5'),\n",
       " ('phage lambda rigthward operon', '6'),\n",
       " ('phage lambda later operon', '6'),\n",
       " ('lambda rexAB', '7'),\n",
       " ('gtrABC operon', '8'),\n",
       " ('PL operon', '9')]"
      ]
     },
     "execution_count": 64,
     "metadata": {},
     "output_type": "execute_result"
    }
   ],
   "source": [
    "operon_records"
   ]
  },
  {
   "cell_type": "code",
   "execution_count": 1,
   "id": "7e6fff29",
   "metadata": {},
   "outputs": [
    {
     "ename": "NameError",
     "evalue": "name 'mycursor' is not defined",
     "output_type": "error",
     "traceback": [
      "\u001b[1;31m---------------------------------------------------------------------------\u001b[0m",
      "\u001b[1;31mNameError\u001b[0m                                 Traceback (most recent call last)",
      "\u001b[1;32m~\\AppData\\Local\\Temp/ipykernel_1720/1005463172.py\u001b[0m in \u001b[0;36m<module>\u001b[1;34m\u001b[0m\n\u001b[1;32m----> 1\u001b[1;33m \u001b[0mmycursor\u001b[0m\u001b[1;33m.\u001b[0m\u001b[0mexecutemany\u001b[0m\u001b[1;33m(\u001b[0m\u001b[0minsert_operons\u001b[0m\u001b[1;33m,\u001b[0m \u001b[0moperon_records\u001b[0m\u001b[1;33m)\u001b[0m\u001b[1;33m\u001b[0m\u001b[1;33m\u001b[0m\u001b[0m\n\u001b[0m\u001b[0;32m      2\u001b[0m \u001b[0mmydb\u001b[0m\u001b[1;33m.\u001b[0m\u001b[0mcommit\u001b[0m\u001b[1;33m(\u001b[0m\u001b[1;33m)\u001b[0m\u001b[1;33m\u001b[0m\u001b[1;33m\u001b[0m\u001b[0m\n",
      "\u001b[1;31mNameError\u001b[0m: name 'mycursor' is not defined"
     ]
    }
   ],
   "source": [
    "mycursor.executemany(insert_operons, operon_records)\n",
    "mydb.commit()"
   ]
  },
  {
   "cell_type": "code",
   "execution_count": 66,
   "id": "fde9fd60",
   "metadata": {},
   "outputs": [
    {
     "name": "stdout",
     "output_type": "stream",
     "text": [
      "(1, 'gem operon', 1)\n",
      "(2, 'Mom operon', 2)\n",
      "(3, 'I operon', 3)\n",
      "(4, 'lys operon', 3)\n",
      "(5, 'P operon', 3)\n",
      "(6, 'middle operon', 4)\n",
      "(7, 'T7 early operon', 5)\n",
      "(8, 'phage lambda leftward operon', 5)\n",
      "(9, 'phage lambda rigthward operon', 6)\n",
      "(10, 'phage lambda later operon', 6)\n",
      "(11, 'lambda rexAB', 7)\n",
      "(12, 'gtrABC operon', 8)\n",
      "(13, 'PL operon', 9)\n"
     ]
    }
   ],
   "source": [
    "select_operon_query = \"SELECT * FROM PhageOperonDB.Operon\"\n",
    "mycursor.execute(select_operon_query)\n",
    "result = mycursor.fetchall()\n",
    "for row in result:\n",
    "    print(row)"
   ]
  },
  {
   "cell_type": "markdown",
   "id": "3935a976",
   "metadata": {},
   "source": [
    "# Insert data into Organism Table"
   ]
  },
  {
   "cell_type": "code",
   "execution_count": 67,
   "id": "84e12ab2",
   "metadata": {},
   "outputs": [],
   "source": [
    "%run insert_organisms.py"
   ]
  },
  {
   "cell_type": "code",
   "execution_count": 68,
   "id": "75ef000b",
   "metadata": {},
   "outputs": [
    {
     "data": {
      "text/plain": [
       "'INSERT INTO PhageOperonDB.Organism (RefSeq, Organism) VALUES (%s, %s)'"
      ]
     },
     "execution_count": 68,
     "metadata": {},
     "output_type": "execute_result"
    }
   ],
   "source": [
    "insert_organisms"
   ]
  },
  {
   "cell_type": "code",
   "execution_count": 69,
   "id": "3c94a048",
   "metadata": {},
   "outputs": [
    {
     "data": {
      "text/plain": [
       "[('NC_000929', 'Entereobacteria phage Mu '),\n",
       " ('NC_001604', 'Enterobacteria phage T7'),\n",
       " ('NC_001416', 'Enterobacteria phage lambda'),\n",
       " ('NC_002371', 'Salmonella phage P22')]"
      ]
     },
     "execution_count": 69,
     "metadata": {},
     "output_type": "execute_result"
    }
   ],
   "source": [
    "organism_records"
   ]
  },
  {
   "cell_type": "code",
   "execution_count": 70,
   "id": "d763e96b",
   "metadata": {},
   "outputs": [],
   "source": [
    "mycursor.executemany(insert_organisms, organism_records)\n",
    "mydb.commit()"
   ]
  },
  {
   "cell_type": "code",
   "execution_count": 71,
   "id": "348f9945",
   "metadata": {},
   "outputs": [
    {
     "name": "stdout",
     "output_type": "stream",
     "text": [
      "('NC_000929', 'Entereobacteria phage Mu ', None)\n",
      "('NC_001416', 'Enterobacteria phage lambda', None)\n",
      "('NC_001604', 'Enterobacteria phage T7', None)\n",
      "('NC_002371', 'Salmonella phage P22', None)\n"
     ]
    }
   ],
   "source": [
    "select_organism_query = \"SELECT * FROM PhageOperonDB.Organism\"\n",
    "mycursor.execute(select_organism_query)\n",
    "result = mycursor.fetchall()\n",
    "for row in result:\n",
    "    print(row)"
   ]
  },
  {
   "cell_type": "markdown",
   "id": "1a431b96",
   "metadata": {},
   "source": [
    "# Insert data into Gene Table"
   ]
  },
  {
   "cell_type": "code",
   "execution_count": 108,
   "id": "17d331da",
   "metadata": {},
   "outputs": [],
   "source": [
    "%run insert_genes.py"
   ]
  },
  {
   "cell_type": "code",
   "execution_count": 109,
   "id": "91306ba3",
   "metadata": {},
   "outputs": [
    {
     "data": {
      "text/plain": [
       "'INSERT INTO PhageOperonDB.Gene (id, Name, Operon_id) VALUES (%s, %s, %s)'"
      ]
     },
     "execution_count": 109,
     "metadata": {},
     "output_type": "execute_result"
    }
   ],
   "source": [
    "insert_genes"
   ]
  },
  {
   "cell_type": "code",
   "execution_count": 110,
   "id": "5eb7c698",
   "metadata": {
    "scrolled": true
   },
   "outputs": [
    {
     "data": {
      "text/plain": [
       "[('2636256', 'gemA', 1),\n",
       " ('2636272', ' gemB', 1),\n",
       " ('2636254', 'Mup54 (gpCom)', 2),\n",
       " ('2636302', ' Mup55 (Mom)', 2),\n",
       " ('2636253', 'Mup32 (I)', 3),\n",
       " ('2636276', ' Mup33 (Z)', 3),\n",
       " ('2636267', ' Mup34 (T)', 3),\n",
       " ('2636251', ' Mup35 (gp35)', 3),\n",
       " ('2636296', ' Mup36 (gp36)', 3),\n",
       " ('2636286', ' Mup37 (gp37)', 3),\n",
       " ('2636273', ' Mup38 (gp38)', 3),\n",
       " ('2636269', ' Mup39 (L)', 3),\n",
       " ('2636260', ' Mup40 (M)', 3),\n",
       " ('2636287', ' Mup41', 3),\n",
       " ('2636275', ' Mup42 (gp42)', 3),\n",
       " (' 2636283', ' Mup43 (N)', 3),\n",
       " ('2636261', 'Mup22', 4),\n",
       " ('2636265', ' Mup23', 4),\n",
       " ('2636252', ' Mup24', 4),\n",
       " ('2636263', ' Mup25', 4),\n",
       " ('2636255', ' Mup26', 4),\n",
       " ('2636271', ' Mup27', 4),\n",
       " ('2636303', ' Mup28', 4),\n",
       " ('2636304', ' Mup29', 4),\n",
       " ('2636300', ' Mup30', 4),\n",
       " ('2636282', ' Mup31', 4),\n",
       " ('2636285', 'Mup44 (P)', 5),\n",
       " ('2636280', ' Mup45 (gp45)', 5),\n",
       " ('2636291', ' Mup46 (gp46)', 5),\n",
       " ('2636250', ' Mup47 (gp47)', 5),\n",
       " ('2636277', ' Mup48 (gp48)', 5),\n",
       " ('2636293', ' Mup49 (S)', 5),\n",
       " ('2636270', ' Mup50 (U)', 5),\n",
       " ('2636281', 'Mup18', 6),\n",
       " ('2636295', ' Mup19', 6),\n",
       " ('2636298', ' Mup20', 6),\n",
       " ('2636301', ' Mup21(C gene)', 6),\n",
       " ('1261063', 'gene0.3', 7),\n",
       " ('1261053', ' gene0.4', 7),\n",
       " ('1261070', ' gene0.7', 7),\n",
       " ('1261051', ' gene0.5', 7),\n",
       " ('1261061', ' gene0.6B ', 7),\n",
       " ('1261071', ' gene0.6A', 7),\n",
       " ('1261050', ' gene1', 7),\n",
       " ('1261049', ' gene1.2', 7),\n",
       " ('1261072', ' gene1.1', 7),\n",
       " ('1261055', ' gene1.3', 7),\n",
       " ('2703540', 'N', 8),\n",
       " ('2703510', ' orf28', 8),\n",
       " ('2703473', ' ral', 8),\n",
       " ('2703541', ' ea10', 8),\n",
       " ('3827056', ' cIII', 8),\n",
       " ('3827057', ' kil', 8),\n",
       " ('2703509', ' gam', 8),\n",
       " ('3827055', ' bet', 8),\n",
       " ('2703522', ' exo', 8),\n",
       " ('2703508', ' orf60a', 8),\n",
       " ('2703507', ' orf63', 8),\n",
       " ('2703506', ' orf61', 8),\n",
       " ('3827054', ' ea22', 8),\n",
       " ('2703505', ' ea8,5', 8),\n",
       " ('2703530', 'locus35', 8),\n",
       " ('2703504', 'xis', 8),\n",
       " ('2703470', ' int', 8),\n",
       " ('2703467', 'cro', 9),\n",
       " ('2703494', ' cII', 9),\n",
       " ('3827060', ' O', 9),\n",
       " ('2703495', ' P', 9),\n",
       " ('2703496', ' ren', 9),\n",
       " ('2703497', ' NinB', 9),\n",
       " ('2703498', ' NinC', 9),\n",
       " ('2703499', ' NinD', 9),\n",
       " ('2703500', ' NinE', 9),\n",
       " ('2703501', ' NinF', 9),\n",
       " ('2703474', ' NinG', 9),\n",
       " ('2703475', ' NinH', 9),\n",
       " ('2703476', ' NinI', 9),\n",
       " ('2703477', ' Q', 9),\n",
       " ('2703478', 'orf-64', 10),\n",
       " ('2703479', ' S', 10),\n",
       " ('5740919', \" S'\", 10),\n",
       " ('2703480', ' R', 10),\n",
       " ('2703481', ' Rz', 10),\n",
       " ('5739319', ' Rz1', 10),\n",
       " ('3827059', 'cI', 11),\n",
       " ('3827058', ' rexa', 11),\n",
       " ('2703493', ' rexb', 11),\n",
       " ('1262849', 'gtrA', 12),\n",
       " ('1262848', ' gtrB', 12),\n",
       " ('2944240', ' gtrC', 12),\n",
       " ('1262841', '24', 13),\n",
       " ('2944229', ' esc', 13),\n",
       " ('1262810', ' sieB', 13),\n",
       " ('1262811', ' ral', 13),\n",
       " ('1262843', ' orf78', 13),\n",
       " ('1262791', ' orf87', 13),\n",
       " ('1262789', ' 17', 13),\n",
       " ('1262787', ' c3', 13),\n",
       " ('1262785', ' kil', 13),\n",
       " ('1262850', ' arf', 13),\n",
       " ('1262800', ' erf', 13),\n",
       " ('1262802', ' abc1', 13),\n",
       " ('1262804', ' abc2', 13)]"
      ]
     },
     "execution_count": 110,
     "metadata": {},
     "output_type": "execute_result"
    }
   ],
   "source": [
    "genes_records"
   ]
  },
  {
   "cell_type": "code",
   "execution_count": 111,
   "id": "13c183eb",
   "metadata": {},
   "outputs": [],
   "source": [
    "mycursor.executemany(insert_genes, genes_records)\n",
    "mydb.commit()"
   ]
  },
  {
   "cell_type": "code",
   "execution_count": 112,
   "id": "ae0b3650",
   "metadata": {
    "scrolled": true
   },
   "outputs": [
    {
     "name": "stdout",
     "output_type": "stream",
     "text": [
      "(' 2636283', ' Mup43 (N)', None, None, None, 3, None)\n",
      "('1261049', ' gene1.2', None, None, None, 7, None)\n",
      "('1261050', ' gene1', None, None, None, 7, None)\n",
      "('1261051', ' gene0.5', None, None, None, 7, None)\n",
      "('1261053', ' gene0.4', None, None, None, 7, None)\n",
      "('1261055', ' gene1.3', None, None, None, 7, None)\n",
      "('1261061', ' gene0.6B ', None, None, None, 7, None)\n",
      "('1261063', 'gene0.3', None, None, None, 7, None)\n",
      "('1261070', ' gene0.7', None, None, None, 7, None)\n",
      "('1261071', ' gene0.6A', None, None, None, 7, None)\n",
      "('1261072', ' gene1.1', None, None, None, 7, None)\n",
      "('1262785', ' kil', None, None, None, 13, None)\n",
      "('1262787', ' c3', None, None, None, 13, None)\n",
      "('1262789', ' 17', None, None, None, 13, None)\n",
      "('1262791', ' orf87', None, None, None, 13, None)\n",
      "('1262800', ' erf', None, None, None, 13, None)\n",
      "('1262802', ' abc1', None, None, None, 13, None)\n",
      "('1262804', ' abc2', None, None, None, 13, None)\n",
      "('1262810', ' sieB', None, None, None, 13, None)\n",
      "('1262811', ' ral', None, None, None, 13, None)\n",
      "('1262841', '24', None, None, None, 13, None)\n",
      "('1262843', ' orf78', None, None, None, 13, None)\n",
      "('1262848', ' gtrB', None, None, None, 12, None)\n",
      "('1262849', 'gtrA', None, None, None, 12, None)\n",
      "('1262850', ' arf', None, None, None, 13, None)\n",
      "('2636250', ' Mup47 (gp47)', None, None, None, 5, None)\n",
      "('2636251', ' Mup35 (gp35)', None, None, None, 3, None)\n",
      "('2636252', ' Mup24', None, None, None, 4, None)\n",
      "('2636253', 'Mup32 (I)', None, None, None, 3, None)\n",
      "('2636254', 'Mup54 (gpCom)', None, None, None, 2, None)\n",
      "('2636255', ' Mup26', None, None, None, 4, None)\n",
      "('2636256', 'gemA', None, None, None, 1, None)\n",
      "('2636260', ' Mup40 (M)', None, None, None, 3, None)\n",
      "('2636261', 'Mup22', None, None, None, 4, None)\n",
      "('2636263', ' Mup25', None, None, None, 4, None)\n",
      "('2636265', ' Mup23', None, None, None, 4, None)\n",
      "('2636267', ' Mup34 (T)', None, None, None, 3, None)\n",
      "('2636269', ' Mup39 (L)', None, None, None, 3, None)\n",
      "('2636270', ' Mup50 (U)', None, None, None, 5, None)\n",
      "('2636271', ' Mup27', None, None, None, 4, None)\n",
      "('2636272', ' gemB', None, None, None, 1, None)\n",
      "('2636273', ' Mup38 (gp38)', None, None, None, 3, None)\n",
      "('2636275', ' Mup42 (gp42)', None, None, None, 3, None)\n",
      "('2636276', ' Mup33 (Z)', None, None, None, 3, None)\n",
      "('2636277', ' Mup48 (gp48)', None, None, None, 5, None)\n",
      "('2636280', ' Mup45 (gp45)', None, None, None, 5, None)\n",
      "('2636281', 'Mup18', None, None, None, 6, None)\n",
      "('2636282', ' Mup31', None, None, None, 4, None)\n",
      "('2636285', 'Mup44 (P)', None, None, None, 5, None)\n",
      "('2636286', ' Mup37 (gp37)', None, None, None, 3, None)\n",
      "('2636287', ' Mup41', None, None, None, 3, None)\n",
      "('2636291', ' Mup46 (gp46)', None, None, None, 5, None)\n",
      "('2636293', ' Mup49 (S)', None, None, None, 5, None)\n",
      "('2636295', ' Mup19', None, None, None, 6, None)\n",
      "('2636296', ' Mup36 (gp36)', None, None, None, 3, None)\n",
      "('2636298', ' Mup20', None, None, None, 6, None)\n",
      "('2636300', ' Mup30', None, None, None, 4, None)\n",
      "('2636301', ' Mup21(C gene)', None, None, None, 6, None)\n",
      "('2636302', ' Mup55 (Mom)', None, None, None, 2, None)\n",
      "('2636303', ' Mup28', None, None, None, 4, None)\n",
      "('2636304', ' Mup29', None, None, None, 4, None)\n",
      "('2703467', 'cro', None, None, None, 9, None)\n",
      "('2703470', ' int', None, None, None, 8, None)\n",
      "('2703473', ' ral', None, None, None, 8, None)\n",
      "('2703474', ' NinG', None, None, None, 9, None)\n",
      "('2703475', ' NinH', None, None, None, 9, None)\n",
      "('2703476', ' NinI', None, None, None, 9, None)\n",
      "('2703477', ' Q', None, None, None, 9, None)\n",
      "('2703478', 'orf-64', None, None, None, 10, None)\n",
      "('2703479', ' S', None, None, None, 10, None)\n",
      "('2703480', ' R', None, None, None, 10, None)\n",
      "('2703481', ' Rz', None, None, None, 10, None)\n",
      "('2703493', ' rexb', None, None, None, 11, None)\n",
      "('2703494', ' cII', None, None, None, 9, None)\n",
      "('2703495', ' P', None, None, None, 9, None)\n",
      "('2703496', ' ren', None, None, None, 9, None)\n",
      "('2703497', ' NinB', None, None, None, 9, None)\n",
      "('2703498', ' NinC', None, None, None, 9, None)\n",
      "('2703499', ' NinD', None, None, None, 9, None)\n",
      "('2703500', ' NinE', None, None, None, 9, None)\n",
      "('2703501', ' NinF', None, None, None, 9, None)\n",
      "('2703504', 'xis', None, None, None, 8, None)\n",
      "('2703505', ' ea8,5', None, None, None, 8, None)\n",
      "('2703506', ' orf61', None, None, None, 8, None)\n",
      "('2703507', ' orf63', None, None, None, 8, None)\n",
      "('2703508', ' orf60a', None, None, None, 8, None)\n",
      "('2703509', ' gam', None, None, None, 8, None)\n",
      "('2703510', ' orf28', None, None, None, 8, None)\n",
      "('2703522', ' exo', None, None, None, 8, None)\n",
      "('2703530', 'locus35', None, None, None, 8, None)\n",
      "('2703540', 'N', None, None, None, 8, None)\n",
      "('2703541', ' ea10', None, None, None, 8, None)\n",
      "('2944229', ' esc', None, None, None, 13, None)\n",
      "('2944240', ' gtrC', None, None, None, 12, None)\n",
      "('3827054', ' ea22', None, None, None, 8, None)\n",
      "('3827055', ' bet', None, None, None, 8, None)\n",
      "('3827056', ' cIII', None, None, None, 8, None)\n",
      "('3827057', ' kil', None, None, None, 8, None)\n",
      "('3827058', ' rexa', None, None, None, 11, None)\n",
      "('3827059', 'cI', None, None, None, 11, None)\n",
      "('3827060', ' O', None, None, None, 9, None)\n",
      "('5739319', ' Rz1', None, None, None, 10, None)\n",
      "('5740919', \" S'\", None, None, None, 10, None)\n"
     ]
    }
   ],
   "source": [
    "select_genes_query = \"SELECT * FROM PhageOperonDB.Gene\"\n",
    "mycursor.execute(select_genes_query)\n",
    "result = mycursor.fetchall()\n",
    "for row in result:\n",
    "    print(row)"
   ]
  },
  {
   "cell_type": "markdown",
   "id": "17292341",
   "metadata": {},
   "source": [
    "# Insert data into Promoter table"
   ]
  },
  {
   "cell_type": "code",
   "execution_count": 92,
   "id": "0bbb92aa",
   "metadata": {},
   "outputs": [],
   "source": [
    "%run insert_promoter.py"
   ]
  },
  {
   "cell_type": "code",
   "execution_count": 93,
   "id": "f74a5224",
   "metadata": {},
   "outputs": [
    {
     "data": {
      "text/plain": [
       "'INSERT INTO PhageOperonDB.Promoter (Name, Position, Operon_id) VALUES (%s, %s, %s)'"
      ]
     },
     "execution_count": 93,
     "metadata": {},
     "output_type": "execute_result"
    }
   ],
   "source": [
    "insert_promoter"
   ]
  },
  {
   "cell_type": "code",
   "execution_count": 94,
   "id": "121c5d11",
   "metadata": {
    "scrolled": true
   },
   "outputs": [
    {
     "data": {
      "text/plain": [
       "[('pGEM promoter', '(8142..8229)', 1),\n",
       " ('pMom promoter', '(35694..35757)', 2),\n",
       " ('pI promoter', '(17978..18042)', 3),\n",
       " ('pLyz promoter', '(10404..10467)', 4),\n",
       " ('pP promoter', '(27288..27352)', 5),\n",
       " ('Pm promoter', '(9178..9234)', 6),\n",
       " ('A1 promoter', '(452..508)', 7),\n",
       " (' A2 promoter', ' (579..636)', 7),\n",
       " (' A3 promoter', ' (704..760)', 7),\n",
       " (' B promoter', ' (1468..1516)', 7),\n",
       " (' C promoter', ' (3068..3123)', 7),\n",
       " (' phi1.1A promoter', ' (5821..5858)', 7),\n",
       " (' phi1.1B promoter', ' (5896..5933)', 7),\n",
       " (' phi1.3 promoter', ' (6382..6419)', 7),\n",
       " ('PI promoter', 'complement(29062..29114)', 8),\n",
       " (' PL1 promoter', ' complement(35572..35627)', 8),\n",
       " (' PL2 promoter', ' complement(35614..35668)', 8),\n",
       " ('PR promoter', '(37978..38033)', 9),\n",
       " (\"PR' promoter\", '(44542..44598)', 10),\n",
       " ('PRM promoter', 'complement(37930..37985)', 11),\n",
       " ('promoter', 'complement(21114..21141)', 12),\n",
       " ('Promoter', 'complement(30892..30920)', 13)]"
      ]
     },
     "execution_count": 94,
     "metadata": {},
     "output_type": "execute_result"
    }
   ],
   "source": [
    "promoter_records"
   ]
  },
  {
   "cell_type": "code",
   "execution_count": 95,
   "id": "387d3427",
   "metadata": {},
   "outputs": [],
   "source": [
    "mycursor.executemany(insert_promoter, promoter_records)\n",
    "mydb.commit()"
   ]
  },
  {
   "cell_type": "code",
   "execution_count": 96,
   "id": "8e6baec4",
   "metadata": {},
   "outputs": [
    {
     "name": "stdout",
     "output_type": "stream",
     "text": [
      "(1, 'pGEM promoter', '(8142..8229)', None, 1, None)\n",
      "(2, 'pMom promoter', '(35694..35757)', None, 2, None)\n",
      "(3, 'pI promoter', '(17978..18042)', None, 3, None)\n",
      "(4, 'pLyz promoter', '(10404..10467)', None, 4, None)\n",
      "(5, 'pP promoter', '(27288..27352)', None, 5, None)\n",
      "(6, 'Pm promoter', '(9178..9234)', None, 6, None)\n",
      "(7, 'A1 promoter', '(452..508)', None, 7, None)\n",
      "(8, ' A2 promoter', ' (579..636)', None, 7, None)\n",
      "(9, ' A3 promoter', ' (704..760)', None, 7, None)\n",
      "(10, ' B promoter', ' (1468..1516)', None, 7, None)\n",
      "(11, ' C promoter', ' (3068..3123)', None, 7, None)\n",
      "(12, ' phi1.1A promoter', ' (5821..5858)', None, 7, None)\n",
      "(13, ' phi1.1B promoter', ' (5896..5933)', None, 7, None)\n",
      "(14, ' phi1.3 promoter', ' (6382..6419)', None, 7, None)\n",
      "(15, 'PI promoter', 'complement(29062..29114)', None, 8, None)\n",
      "(16, ' PL1 promoter', ' complement(35572..35627)', None, 8, None)\n",
      "(17, ' PL2 promoter', ' complement(35614..35668)', None, 8, None)\n",
      "(18, 'PR promoter', '(37978..38033)', None, 9, None)\n",
      "(19, \"PR' promoter\", '(44542..44598)', None, 10, None)\n",
      "(20, 'PRM promoter', 'complement(37930..37985)', None, 11, None)\n",
      "(21, 'promoter', 'complement(21114..21141)', None, 12, None)\n",
      "(22, 'Promoter', 'complement(30892..30920)', None, 13, None)\n"
     ]
    }
   ],
   "source": [
    "select_promoter_query = \"SELECT * FROM PhageOperonDB.Promoter\"\n",
    "mycursor.execute(select_promoter_query)\n",
    "result = mycursor.fetchall()\n",
    "for row in result:\n",
    "    print(row)"
   ]
  },
  {
   "cell_type": "markdown",
   "id": "5de296d7",
   "metadata": {},
   "source": [
    "# Insert Data into Terminator Table"
   ]
  },
  {
   "cell_type": "code",
   "execution_count": 97,
   "id": "53456f28",
   "metadata": {},
   "outputs": [],
   "source": [
    "%run insert_terminator.py"
   ]
  },
  {
   "cell_type": "code",
   "execution_count": 98,
   "id": "a74a9d05",
   "metadata": {},
   "outputs": [
    {
     "data": {
      "text/plain": [
       "'INSERT INTO PhageOperonDB.Terminator (Name, Position, Operon_id) VALUES (%s, %s, %s)'"
      ]
     },
     "execution_count": 98,
     "metadata": {},
     "output_type": "execute_result"
    }
   ],
   "source": [
    "insert_terminator"
   ]
  },
  {
   "cell_type": "code",
   "execution_count": 99,
   "id": "e3e08e3c",
   "metadata": {
    "scrolled": true
   },
   "outputs": [
    {
     "data": {
      "text/plain": [
       "[('t9.2 terminator', '(9166..9206)', 1),\n",
       " ('tMom terminator', '(36642..36689)', 2),\n",
       " ('tLys(b) terminator', '(17907..17962); (17920..17959)', 4),\n",
       " ('tP(G+) terminator', 'tP(G+) terminator', 5),\n",
       " (' tP(G-) terminator', ' tP(G-) terminator', 5),\n",
       " ('tM terminator', '(10370..10416)', 6),\n",
       " ('TE terminator', '(7552..7591)', 7),\n",
       " ('tI terminator', 'tI terminator', 8),\n",
       " (' tL1 terminator', ' tL1 terminator', 8),\n",
       " (' tL2 terminator', ' tL2 terminator', 8),\n",
       " (' tL3 terminator', ' tL3 terminator', 8),\n",
       " ('tR1 terminator', 'tR1 terminator', 9),\n",
       " (' tR2 terminator', ' tR2 terminator', 9),\n",
       " (\"tR' terminator\", '(44714..44782)', 10),\n",
       " ('terminator', 'complement(18214..18245)', 12)]"
      ]
     },
     "execution_count": 99,
     "metadata": {},
     "output_type": "execute_result"
    }
   ],
   "source": [
    "terminator_records"
   ]
  },
  {
   "cell_type": "code",
   "execution_count": 100,
   "id": "b0af8c71",
   "metadata": {},
   "outputs": [],
   "source": [
    "mycursor.executemany(insert_terminator, terminator_records)\n",
    "mydb.commit()"
   ]
  },
  {
   "cell_type": "code",
   "execution_count": 101,
   "id": "a438961f",
   "metadata": {},
   "outputs": [
    {
     "name": "stdout",
     "output_type": "stream",
     "text": [
      "(1, 't9.2 terminator', '(9166..9206)', None, 1, None)\n",
      "(2, 'tMom terminator', '(36642..36689)', None, 2, None)\n",
      "(3, 'tLys(b) terminator', '(17907..17962); (17920..17959)', None, 4, None)\n",
      "(4, 'tP(G+) terminator', 'tP(G+) terminator', None, 5, None)\n",
      "(5, ' tP(G-) terminator', ' tP(G-) terminator', None, 5, None)\n",
      "(6, 'tM terminator', '(10370..10416)', None, 6, None)\n",
      "(7, 'TE terminator', '(7552..7591)', None, 7, None)\n",
      "(8, 'tI terminator', 'tI terminator', None, 8, None)\n",
      "(9, ' tL1 terminator', ' tL1 terminator', None, 8, None)\n",
      "(10, ' tL2 terminator', ' tL2 terminator', None, 8, None)\n",
      "(11, ' tL3 terminator', ' tL3 terminator', None, 8, None)\n",
      "(12, 'tR1 terminator', 'tR1 terminator', None, 9, None)\n",
      "(13, ' tR2 terminator', ' tR2 terminator', None, 9, None)\n",
      "(14, \"tR' terminator\", '(44714..44782)', None, 10, None)\n",
      "(15, 'terminator', 'complement(18214..18245)', None, 12, None)\n"
     ]
    }
   ],
   "source": [
    "select_terminator_query = \"SELECT * FROM PhageOperonDB.Terminator\"\n",
    "mycursor.execute(select_terminator_query)\n",
    "result = mycursor.fetchall()\n",
    "for row in result:\n",
    "    print(row)"
   ]
  },
  {
   "cell_type": "markdown",
   "id": "1256dcd0",
   "metadata": {},
   "source": [
    "# Insert Data into Organism_has_Operon Table"
   ]
  },
  {
   "cell_type": "code",
   "execution_count": 102,
   "id": "fe1b73cc",
   "metadata": {},
   "outputs": [],
   "source": [
    "%run insert_org_has_ope.py"
   ]
  },
  {
   "cell_type": "code",
   "execution_count": 103,
   "id": "fccd3bda",
   "metadata": {},
   "outputs": [
    {
     "data": {
      "text/plain": [
       "'INSERT INTO PhageOperonDB.Organism_has_Operon (RefSeq, Operon_id) VALUES (%s, %s)'"
      ]
     },
     "execution_count": 103,
     "metadata": {},
     "output_type": "execute_result"
    }
   ],
   "source": [
    "insert_org_has_ope"
   ]
  },
  {
   "cell_type": "code",
   "execution_count": 104,
   "id": "5b9881ef",
   "metadata": {},
   "outputs": [
    {
     "data": {
      "text/plain": [
       "[('NC_000929', 1),\n",
       " ('NC_000929', 2),\n",
       " ('NC_000929', 3),\n",
       " ('NC_000929', 4),\n",
       " ('NC_000929', 5),\n",
       " ('NC_000929', 6),\n",
       " ('NC_001604', 7),\n",
       " ('NC_001416', 8),\n",
       " ('NC_001416', 9),\n",
       " ('NC_001416', 10),\n",
       " ('NC_001416', 11),\n",
       " ('NC_002371', 12),\n",
       " ('NC_002371', 13)]"
      ]
     },
     "execution_count": 104,
     "metadata": {},
     "output_type": "execute_result"
    }
   ],
   "source": [
    "org_has_ope_records"
   ]
  },
  {
   "cell_type": "code",
   "execution_count": 105,
   "id": "8a1e9ed6",
   "metadata": {},
   "outputs": [],
   "source": [
    "mycursor.executemany(insert_org_has_ope, org_has_ope_records)\n",
    "mydb.commit()"
   ]
  },
  {
   "cell_type": "code",
   "execution_count": 106,
   "id": "cea25ed2",
   "metadata": {},
   "outputs": [
    {
     "name": "stdout",
     "output_type": "stream",
     "text": [
      "('NC_000929', 1)\n",
      "('NC_000929', 2)\n",
      "('NC_000929', 3)\n",
      "('NC_000929', 4)\n",
      "('NC_000929', 5)\n",
      "('NC_000929', 6)\n",
      "('NC_001604', 7)\n",
      "('NC_001416', 8)\n",
      "('NC_001416', 9)\n",
      "('NC_001416', 10)\n",
      "('NC_001416', 11)\n",
      "('NC_002371', 12)\n",
      "('NC_002371', 13)\n"
     ]
    }
   ],
   "source": [
    "select_org_has_ope_query = \"SELECT * FROM PhageOperonDB.Organism_has_Operon\"\n",
    "mycursor.execute(select_org_has_ope_query)\n",
    "result = mycursor.fetchall()\n",
    "for row in result:\n",
    "    print(row)"
   ]
  },
  {
   "cell_type": "markdown",
   "id": "30f2ae79",
   "metadata": {},
   "source": [
    "# Insert Data into Organism_has_Gene Table"
   ]
  },
  {
   "cell_type": "code",
   "execution_count": 117,
   "id": "5472bf75",
   "metadata": {},
   "outputs": [],
   "source": [
    "%run insert_org_has_gene.py"
   ]
  },
  {
   "cell_type": "code",
   "execution_count": 118,
   "id": "34139460",
   "metadata": {},
   "outputs": [
    {
     "data": {
      "text/plain": [
       "'INSERT INTO PhageOperonDB.Organism_has_Gene (RefSeq, Geneid) VALUES (%s, %s)'"
      ]
     },
     "execution_count": 118,
     "metadata": {},
     "output_type": "execute_result"
    }
   ],
   "source": [
    "insert_org_has_gene"
   ]
  },
  {
   "cell_type": "code",
   "execution_count": 119,
   "id": "d9eb156d",
   "metadata": {
    "scrolled": true
   },
   "outputs": [
    {
     "data": {
      "text/plain": [
       "[('NC_000929', '2636256'),\n",
       " ('NC_000929', '2636272'),\n",
       " ('NC_000929', '2636254'),\n",
       " ('NC_000929', '2636302'),\n",
       " ('NC_000929', '2636253'),\n",
       " ('NC_000929', '2636276'),\n",
       " ('NC_000929', '2636267'),\n",
       " ('NC_000929', '2636251'),\n",
       " ('NC_000929', '2636296'),\n",
       " ('NC_000929', '2636286'),\n",
       " ('NC_000929', '2636273'),\n",
       " ('NC_000929', '2636269'),\n",
       " ('NC_000929', '2636260'),\n",
       " ('NC_000929', '2636287'),\n",
       " ('NC_000929', '2636275'),\n",
       " ('NC_000929', ' 2636283'),\n",
       " ('NC_000929', '2636261'),\n",
       " ('NC_000929', '2636265'),\n",
       " ('NC_000929', '2636252'),\n",
       " ('NC_000929', '2636263'),\n",
       " ('NC_000929', '2636255'),\n",
       " ('NC_000929', '2636271'),\n",
       " ('NC_000929', '2636303'),\n",
       " ('NC_000929', '2636304'),\n",
       " ('NC_000929', '2636300'),\n",
       " ('NC_000929', '2636282'),\n",
       " ('NC_000929', '2636285'),\n",
       " ('NC_000929', '2636280'),\n",
       " ('NC_000929', '2636291'),\n",
       " ('NC_000929', '2636250'),\n",
       " ('NC_000929', '2636277'),\n",
       " ('NC_000929', '2636293'),\n",
       " ('NC_000929', '2636270'),\n",
       " ('NC_000929', '2636281'),\n",
       " ('NC_000929', '2636295'),\n",
       " ('NC_000929', '2636298'),\n",
       " ('NC_000929', '2636301'),\n",
       " ('NC_001604', '1261063'),\n",
       " ('NC_001604', '1261053'),\n",
       " ('NC_001604', '1261070'),\n",
       " ('NC_001604', '1261051'),\n",
       " ('NC_001604', '1261061'),\n",
       " ('NC_001604', '1261071'),\n",
       " ('NC_001604', '1261050'),\n",
       " ('NC_001604', '1261049'),\n",
       " ('NC_001604', '1261072'),\n",
       " ('NC_001604', '1261055'),\n",
       " ('NC_001416', '2703540'),\n",
       " ('NC_001416', '2703510'),\n",
       " ('NC_001416', '2703473'),\n",
       " ('NC_001416', '2703541'),\n",
       " ('NC_001416', '3827056'),\n",
       " ('NC_001416', '3827057'),\n",
       " ('NC_001416', '2703509'),\n",
       " ('NC_001416', '3827055'),\n",
       " ('NC_001416', '2703522'),\n",
       " ('NC_001416', '2703508'),\n",
       " ('NC_001416', '2703507'),\n",
       " ('NC_001416', '2703506'),\n",
       " ('NC_001416', '3827054'),\n",
       " ('NC_001416', '2703505'),\n",
       " ('NC_001416', '2703530'),\n",
       " ('NC_001416', '2703504'),\n",
       " ('NC_001416', '2703470'),\n",
       " ('NC_001416', '2703467'),\n",
       " ('NC_001416', '2703494'),\n",
       " ('NC_001416', '3827060'),\n",
       " ('NC_001416', '2703495'),\n",
       " ('NC_001416', '2703496'),\n",
       " ('NC_001416', '2703497'),\n",
       " ('NC_001416', '2703498'),\n",
       " ('NC_001416', '2703499'),\n",
       " ('NC_001416', '2703500'),\n",
       " ('NC_001416', '2703501'),\n",
       " ('NC_001416', '2703474'),\n",
       " ('NC_001416', '2703475'),\n",
       " ('NC_001416', '2703476'),\n",
       " ('NC_001416', '2703477'),\n",
       " ('NC_001416', '2703478'),\n",
       " ('NC_001416', '2703479'),\n",
       " ('NC_001416', '5740919'),\n",
       " ('NC_001416', '2703480'),\n",
       " ('NC_001416', '2703481'),\n",
       " ('NC_001416', '5739319'),\n",
       " ('NC_001416', '3827059'),\n",
       " ('NC_001416', '3827058'),\n",
       " ('NC_001416', '2703493'),\n",
       " ('NC_002371', '1262849'),\n",
       " ('NC_002371', '1262848'),\n",
       " ('NC_002371', '2944240'),\n",
       " ('NC_002371', '1262841'),\n",
       " ('NC_002371', '2944229'),\n",
       " ('NC_002371', '1262810'),\n",
       " ('NC_002371', '1262811'),\n",
       " ('NC_002371', '1262843'),\n",
       " ('NC_002371', '1262791'),\n",
       " ('NC_002371', '1262789'),\n",
       " ('NC_002371', '1262787'),\n",
       " ('NC_002371', '1262785'),\n",
       " ('NC_002371', '1262850'),\n",
       " ('NC_002371', '1262800'),\n",
       " ('NC_002371', '1262802'),\n",
       " ('NC_002371', '1262804')]"
      ]
     },
     "execution_count": 119,
     "metadata": {},
     "output_type": "execute_result"
    }
   ],
   "source": [
    "org_has_gene_records"
   ]
  },
  {
   "cell_type": "code",
   "execution_count": 120,
   "id": "c91fdb65",
   "metadata": {},
   "outputs": [],
   "source": [
    "mycursor.executemany(insert_org_has_gene, org_has_gene_records)\n",
    "mydb.commit()"
   ]
  },
  {
   "cell_type": "code",
   "execution_count": 121,
   "id": "1a74e406",
   "metadata": {
    "scrolled": true
   },
   "outputs": [
    {
     "name": "stdout",
     "output_type": "stream",
     "text": [
      "('NC_000929', ' 2636283')\n",
      "('NC_001604', '1261049')\n",
      "('NC_001604', '1261050')\n",
      "('NC_001604', '1261051')\n",
      "('NC_001604', '1261053')\n",
      "('NC_001604', '1261055')\n",
      "('NC_001604', '1261061')\n",
      "('NC_001604', '1261063')\n",
      "('NC_001604', '1261070')\n",
      "('NC_001604', '1261071')\n",
      "('NC_001604', '1261072')\n",
      "('NC_002371', '1262785')\n",
      "('NC_002371', '1262787')\n",
      "('NC_002371', '1262789')\n",
      "('NC_002371', '1262791')\n",
      "('NC_002371', '1262800')\n",
      "('NC_002371', '1262802')\n",
      "('NC_002371', '1262804')\n",
      "('NC_002371', '1262810')\n",
      "('NC_002371', '1262811')\n",
      "('NC_002371', '1262841')\n",
      "('NC_002371', '1262843')\n",
      "('NC_002371', '1262848')\n",
      "('NC_002371', '1262849')\n",
      "('NC_002371', '1262850')\n",
      "('NC_000929', '2636250')\n",
      "('NC_000929', '2636251')\n",
      "('NC_000929', '2636252')\n",
      "('NC_000929', '2636253')\n",
      "('NC_000929', '2636254')\n",
      "('NC_000929', '2636255')\n",
      "('NC_000929', '2636256')\n",
      "('NC_000929', '2636260')\n",
      "('NC_000929', '2636261')\n",
      "('NC_000929', '2636263')\n",
      "('NC_000929', '2636265')\n",
      "('NC_000929', '2636267')\n",
      "('NC_000929', '2636269')\n",
      "('NC_000929', '2636270')\n",
      "('NC_000929', '2636271')\n",
      "('NC_000929', '2636272')\n",
      "('NC_000929', '2636273')\n",
      "('NC_000929', '2636275')\n",
      "('NC_000929', '2636276')\n",
      "('NC_000929', '2636277')\n",
      "('NC_000929', '2636280')\n",
      "('NC_000929', '2636281')\n",
      "('NC_000929', '2636282')\n",
      "('NC_000929', '2636285')\n",
      "('NC_000929', '2636286')\n",
      "('NC_000929', '2636287')\n",
      "('NC_000929', '2636291')\n",
      "('NC_000929', '2636293')\n",
      "('NC_000929', '2636295')\n",
      "('NC_000929', '2636296')\n",
      "('NC_000929', '2636298')\n",
      "('NC_000929', '2636300')\n",
      "('NC_000929', '2636301')\n",
      "('NC_000929', '2636302')\n",
      "('NC_000929', '2636303')\n",
      "('NC_000929', '2636304')\n",
      "('NC_001416', '2703467')\n",
      "('NC_001416', '2703470')\n",
      "('NC_001416', '2703473')\n",
      "('NC_001416', '2703474')\n",
      "('NC_001416', '2703475')\n",
      "('NC_001416', '2703476')\n",
      "('NC_001416', '2703477')\n",
      "('NC_001416', '2703478')\n",
      "('NC_001416', '2703479')\n",
      "('NC_001416', '2703480')\n",
      "('NC_001416', '2703481')\n",
      "('NC_001416', '2703493')\n",
      "('NC_001416', '2703494')\n",
      "('NC_001416', '2703495')\n",
      "('NC_001416', '2703496')\n",
      "('NC_001416', '2703497')\n",
      "('NC_001416', '2703498')\n",
      "('NC_001416', '2703499')\n",
      "('NC_001416', '2703500')\n",
      "('NC_001416', '2703501')\n",
      "('NC_001416', '2703504')\n",
      "('NC_001416', '2703505')\n",
      "('NC_001416', '2703506')\n",
      "('NC_001416', '2703507')\n",
      "('NC_001416', '2703508')\n",
      "('NC_001416', '2703509')\n",
      "('NC_001416', '2703510')\n",
      "('NC_001416', '2703522')\n",
      "('NC_001416', '2703530')\n",
      "('NC_001416', '2703540')\n",
      "('NC_001416', '2703541')\n",
      "('NC_002371', '2944229')\n",
      "('NC_002371', '2944240')\n",
      "('NC_001416', '3827054')\n",
      "('NC_001416', '3827055')\n",
      "('NC_001416', '3827056')\n",
      "('NC_001416', '3827057')\n",
      "('NC_001416', '3827058')\n",
      "('NC_001416', '3827059')\n",
      "('NC_001416', '3827060')\n",
      "('NC_001416', '5739319')\n",
      "('NC_001416', '5740919')\n"
     ]
    }
   ],
   "source": [
    "select_org_has_gene_query = \"SELECT * FROM PhageOperonDB.Organism_has_Gene\"\n",
    "mycursor.execute(select_org_has_gene_query)\n",
    "result = mycursor.fetchall()\n",
    "for row in result:\n",
    "    print(row)"
   ]
  },
  {
   "cell_type": "markdown",
   "id": "3fc39218",
   "metadata": {},
   "source": [
    "# Create Views"
   ]
  },
  {
   "cell_type": "code",
   "execution_count": 31,
   "id": "cc6cab44",
   "metadata": {
    "scrolled": true
   },
   "outputs": [],
   "source": [
    "#Genes for operon CREATE VIEW Genes_by_Operons AS \n",
    "query_example = \"CREATE OR REPLACE VIEW Genes_by_Operons AS SELECT Operon.id AS Operon_id , Operon.Name AS Operon_Name, Gene.id AS GeneID, Gene.Name as Gene_Name FROM Operon, Gene WHERE Operon.id = Gene.Operon_id\"\n",
    "mycursor.execute(query_example)"
   ]
  },
  {
   "cell_type": "code",
   "execution_count": 32,
   "id": "9823a09a",
   "metadata": {
    "scrolled": true
   },
   "outputs": [
    {
     "name": "stdout",
     "output_type": "stream",
     "text": [
      "(1, 'gem operon', '2636256', 'gemA')\n",
      "(1, 'gem operon', '2636272', ' gemB')\n",
      "(2, 'Mom operon', '2636254', 'Mup54 (gpCom)')\n",
      "(2, 'Mom operon', '2636302', ' Mup55 (Mom)')\n",
      "(3, 'I operon', ' 2636283', ' Mup43 (N)')\n",
      "(3, 'I operon', '2636251', ' Mup35 (gp35)')\n",
      "(3, 'I operon', '2636253', 'Mup32 (I)')\n",
      "(3, 'I operon', '2636260', ' Mup40 (M)')\n",
      "(3, 'I operon', '2636267', ' Mup34 (T)')\n",
      "(3, 'I operon', '2636269', ' Mup39 (L)')\n",
      "(3, 'I operon', '2636273', ' Mup38 (gp38)')\n",
      "(3, 'I operon', '2636275', ' Mup42 (gp42)')\n",
      "(3, 'I operon', '2636276', ' Mup33 (Z)')\n",
      "(3, 'I operon', '2636286', ' Mup37 (gp37)')\n",
      "(3, 'I operon', '2636287', ' Mup41')\n",
      "(3, 'I operon', '2636296', ' Mup36 (gp36)')\n",
      "(4, 'lys operon', '2636252', ' Mup24')\n",
      "(4, 'lys operon', '2636255', ' Mup26')\n",
      "(4, 'lys operon', '2636261', 'Mup22')\n",
      "(4, 'lys operon', '2636263', ' Mup25')\n",
      "(4, 'lys operon', '2636265', ' Mup23')\n",
      "(4, 'lys operon', '2636271', ' Mup27')\n",
      "(4, 'lys operon', '2636282', ' Mup31')\n",
      "(4, 'lys operon', '2636300', ' Mup30')\n",
      "(4, 'lys operon', '2636303', ' Mup28')\n",
      "(4, 'lys operon', '2636304', ' Mup29')\n",
      "(5, 'P operon', '2636250', ' Mup47 (gp47)')\n",
      "(5, 'P operon', '2636270', ' Mup50 (U)')\n",
      "(5, 'P operon', '2636277', ' Mup48 (gp48)')\n",
      "(5, 'P operon', '2636280', ' Mup45 (gp45)')\n",
      "(5, 'P operon', '2636285', 'Mup44 (P)')\n",
      "(5, 'P operon', '2636291', ' Mup46 (gp46)')\n",
      "(5, 'P operon', '2636293', ' Mup49 (S)')\n",
      "(6, 'middle operon', '2636281', 'Mup18')\n",
      "(6, 'middle operon', '2636295', ' Mup19')\n",
      "(6, 'middle operon', '2636298', ' Mup20')\n",
      "(6, 'middle operon', '2636301', ' Mup21(C gene)')\n",
      "(7, 'T7 early operon', '1261049', ' gene1.2')\n",
      "(7, 'T7 early operon', '1261050', ' gene1')\n",
      "(7, 'T7 early operon', '1261051', ' gene0.5')\n",
      "(7, 'T7 early operon', '1261053', ' gene0.4')\n",
      "(7, 'T7 early operon', '1261055', ' gene1.3')\n",
      "(7, 'T7 early operon', '1261061', ' gene0.6B ')\n",
      "(7, 'T7 early operon', '1261063', 'gene0.3')\n",
      "(7, 'T7 early operon', '1261070', ' gene0.7')\n",
      "(7, 'T7 early operon', '1261071', ' gene0.6A')\n",
      "(7, 'T7 early operon', '1261072', ' gene1.1')\n",
      "(8, 'phage lambda leftward operon', '2703470', ' int')\n",
      "(8, 'phage lambda leftward operon', '2703473', ' ral')\n",
      "(8, 'phage lambda leftward operon', '2703504', 'xis')\n",
      "(8, 'phage lambda leftward operon', '2703505', ' ea8,5')\n",
      "(8, 'phage lambda leftward operon', '2703506', ' orf61')\n",
      "(8, 'phage lambda leftward operon', '2703507', ' orf63')\n",
      "(8, 'phage lambda leftward operon', '2703508', ' orf60a')\n",
      "(8, 'phage lambda leftward operon', '2703509', ' gam')\n",
      "(8, 'phage lambda leftward operon', '2703510', ' orf28')\n",
      "(8, 'phage lambda leftward operon', '2703522', ' exo')\n",
      "(8, 'phage lambda leftward operon', '2703530', 'locus35')\n",
      "(8, 'phage lambda leftward operon', '2703540', 'N')\n",
      "(8, 'phage lambda leftward operon', '2703541', ' ea10')\n",
      "(8, 'phage lambda leftward operon', '3827054', ' ea22')\n",
      "(8, 'phage lambda leftward operon', '3827055', ' bet')\n",
      "(8, 'phage lambda leftward operon', '3827056', ' cIII')\n",
      "(8, 'phage lambda leftward operon', '3827057', ' kil')\n",
      "(9, 'phage lambda rigthward operon', '2703467', 'cro')\n",
      "(9, 'phage lambda rigthward operon', '2703474', ' NinG')\n",
      "(9, 'phage lambda rigthward operon', '2703475', ' NinH')\n",
      "(9, 'phage lambda rigthward operon', '2703476', ' NinI')\n",
      "(9, 'phage lambda rigthward operon', '2703477', ' Q')\n",
      "(9, 'phage lambda rigthward operon', '2703494', ' cII')\n",
      "(9, 'phage lambda rigthward operon', '2703495', ' P')\n",
      "(9, 'phage lambda rigthward operon', '2703496', ' ren')\n",
      "(9, 'phage lambda rigthward operon', '2703497', ' NinB')\n",
      "(9, 'phage lambda rigthward operon', '2703498', ' NinC')\n",
      "(9, 'phage lambda rigthward operon', '2703499', ' NinD')\n",
      "(9, 'phage lambda rigthward operon', '2703500', ' NinE')\n",
      "(9, 'phage lambda rigthward operon', '2703501', ' NinF')\n",
      "(9, 'phage lambda rigthward operon', '3827060', ' O')\n",
      "(10, 'phage lambda later operon', '2703478', 'orf-64')\n",
      "(10, 'phage lambda later operon', '2703479', ' S')\n",
      "(10, 'phage lambda later operon', '2703480', ' R')\n",
      "(10, 'phage lambda later operon', '2703481', ' Rz')\n",
      "(10, 'phage lambda later operon', '5739319', ' Rz1')\n",
      "(10, 'phage lambda later operon', '5740919', \" S'\")\n",
      "(11, 'lambda rexAB', '2703493', ' rexb')\n",
      "(11, 'lambda rexAB', '3827058', ' rexa')\n",
      "(11, 'lambda rexAB', '3827059', 'cI')\n",
      "(12, 'gtrABC operon', '1262848', ' gtrB')\n",
      "(12, 'gtrABC operon', '1262849', 'gtrA')\n",
      "(12, 'gtrABC operon', '2944240', ' gtrC')\n",
      "(13, 'PL operon', '1262785', ' kil')\n",
      "(13, 'PL operon', '1262787', ' c3')\n",
      "(13, 'PL operon', '1262789', ' 17')\n",
      "(13, 'PL operon', '1262791', ' orf87')\n",
      "(13, 'PL operon', '1262800', ' erf')\n",
      "(13, 'PL operon', '1262802', ' abc1')\n",
      "(13, 'PL operon', '1262804', ' abc2')\n",
      "(13, 'PL operon', '1262810', ' sieB')\n",
      "(13, 'PL operon', '1262811', ' ral')\n",
      "(13, 'PL operon', '1262841', '24')\n",
      "(13, 'PL operon', '1262843', ' orf78')\n",
      "(13, 'PL operon', '1262850', ' arf')\n",
      "(13, 'PL operon', '2944229', ' esc')\n"
     ]
    }
   ],
   "source": [
    "mycursor.execute('SELECT * FROM Genes_by_Operons')\n",
    "result = mycursor.fetchall()\n",
    "for row in result:\n",
    "    print(row)"
   ]
  },
  {
   "cell_type": "code",
   "execution_count": 33,
   "id": "8931e716",
   "metadata": {},
   "outputs": [],
   "source": [
    "#promoters for operon CREATE VIEW Promoter_by_Operons AS \n",
    "query_example1 = \"CREATE VIEW Promoter_by_Operons AS SELECT Promoter.Operon_id AS Operon_id, Operon.Name AS Operon_Name, Promoter.id AS Promoter_id, Promoter.Name AS Promoter_Name FROM Promoter, Operon WHERE Promoter.Operon_id = Operon.id\"\n",
    "mycursor.execute(query_example1)"
   ]
  },
  {
   "cell_type": "code",
   "execution_count": 34,
   "id": "22796ace",
   "metadata": {
    "scrolled": true
   },
   "outputs": [
    {
     "name": "stdout",
     "output_type": "stream",
     "text": [
      "(1, 'gem operon', 1, 'pGEM promoter')\n",
      "(2, 'Mom operon', 2, 'pMom promoter')\n",
      "(3, 'I operon', 3, 'pI promoter')\n",
      "(4, 'lys operon', 4, 'pLyz promoter')\n",
      "(5, 'P operon', 5, 'pP promoter')\n",
      "(6, 'middle operon', 6, 'Pm promoter')\n",
      "(7, 'T7 early operon', 7, 'A1 promoter')\n",
      "(7, 'T7 early operon', 8, ' A2 promoter')\n",
      "(7, 'T7 early operon', 9, ' A3 promoter')\n",
      "(7, 'T7 early operon', 10, ' B promoter')\n",
      "(7, 'T7 early operon', 11, ' C promoter')\n",
      "(7, 'T7 early operon', 12, ' phi1.1A promoter')\n",
      "(7, 'T7 early operon', 13, ' phi1.1B promoter')\n",
      "(7, 'T7 early operon', 14, ' phi1.3 promoter')\n",
      "(8, 'phage lambda leftward operon', 15, 'PI promoter')\n",
      "(8, 'phage lambda leftward operon', 16, ' PL1 promoter')\n",
      "(8, 'phage lambda leftward operon', 17, ' PL2 promoter')\n",
      "(9, 'phage lambda rigthward operon', 18, 'PR promoter')\n",
      "(10, 'phage lambda later operon', 19, \"PR' promoter\")\n",
      "(11, 'lambda rexAB', 20, 'PRM promoter')\n",
      "(12, 'gtrABC operon', 21, 'promoter')\n",
      "(13, 'PL operon', 22, 'Promoter')\n"
     ]
    }
   ],
   "source": [
    "mycursor.execute('SELECT * FROM Promoter_by_Operons')\n",
    "result = mycursor.fetchall()\n",
    "for row in result:\n",
    "    print(row)"
   ]
  },
  {
   "cell_type": "code",
   "execution_count": 35,
   "id": "7b587b2f",
   "metadata": {},
   "outputs": [],
   "source": [
    "#terminator for operon CREATE VIEW Terminator_by_Operons AS \n",
    "query_example2 = \"CREATE VIEW Terminator_by_Operons AS SELECT Terminator.Operon_id AS Operon_id, Operon.Name AS Operon_Name, Terminator.id AS Terminator_id, Terminator.Name AS Terminator_Name FROM Terminator, Operon WHERE Terminator.Operon_id = Operon.id\"\n",
    "mycursor.execute(query_example2)"
   ]
  },
  {
   "cell_type": "code",
   "execution_count": 36,
   "id": "10a75f13",
   "metadata": {
    "scrolled": true
   },
   "outputs": [
    {
     "name": "stdout",
     "output_type": "stream",
     "text": [
      "(1, 'gem operon', 1, 't9.2 terminator')\n",
      "(2, 'Mom operon', 2, 'tMom terminator')\n",
      "(4, 'lys operon', 3, 'tLys(b) terminator')\n",
      "(5, 'P operon', 4, 'tP(G+) terminator')\n",
      "(5, 'P operon', 5, ' tP(G-) terminator')\n",
      "(6, 'middle operon', 6, 'tM terminator')\n",
      "(7, 'T7 early operon', 7, 'TE terminator')\n",
      "(8, 'phage lambda leftward operon', 8, 'tI terminator')\n",
      "(8, 'phage lambda leftward operon', 9, ' tL1 terminator')\n",
      "(8, 'phage lambda leftward operon', 10, ' tL2 terminator')\n",
      "(8, 'phage lambda leftward operon', 11, ' tL3 terminator')\n",
      "(9, 'phage lambda rigthward operon', 12, 'tR1 terminator')\n",
      "(9, 'phage lambda rigthward operon', 13, ' tR2 terminator')\n",
      "(10, 'phage lambda later operon', 14, \"tR' terminator\")\n",
      "(12, 'gtrABC operon', 15, 'terminator')\n"
     ]
    }
   ],
   "source": [
    "mycursor.execute('SELECT * FROM Terminator_by_Operons')\n",
    "result = mycursor.fetchall()\n",
    "for row in result:\n",
    "    print(row)"
   ]
  },
  {
   "cell_type": "code",
   "execution_count": 39,
   "id": "5e5d99e7",
   "metadata": {},
   "outputs": [],
   "source": [
    "# organism, genes, promoter and terminator for Operon CREATE VIEW Operons AS \n",
    "query_example3 = \"CREATE OR REPLACE VIEW Operons AS SELECT Operon.Name AS Operon_Name, Organism.Organism AS Organism, Gene.Name AS Gene_Name, Promoter.Name AS Promoter_Name, Terminator.Name AS Terminator_Name FROM Terminator, Operon, Promoter, Gene, Organism, Organism_has_Operon, Organism_has_Gene WHERE Organism_has_Operon.RefSeq = Organism.RefSeq and Organism_has_Operon.Operon_id = Operon.id and Organism_has_Gene.Geneid = Gene.id and Gene.Operon_id = Operon.id and Promoter.Operon_id = Operon.id and Terminator.Operon_id = Operon.id \"\n",
    "mycursor.execute(query_example3)"
   ]
  },
  {
   "cell_type": "code",
   "execution_count": 41,
   "id": "0f0c6641",
   "metadata": {},
   "outputs": [
    {
     "name": "stdout",
     "output_type": "stream",
     "text": [
      "('gem operon', 'Entereobacteria phage Mu ', 'gemA', 'pGEM promoter', 't9.2 terminator')\n",
      "('gem operon', 'Entereobacteria phage Mu ', ' gemB', 'pGEM promoter', 't9.2 terminator')\n",
      "('Mom operon', 'Entereobacteria phage Mu ', 'Mup54 (gpCom)', 'pMom promoter', 'tMom terminator')\n",
      "('Mom operon', 'Entereobacteria phage Mu ', ' Mup55 (Mom)', 'pMom promoter', 'tMom terminator')\n",
      "('lys operon', 'Entereobacteria phage Mu ', ' Mup24', 'pLyz promoter', 'tLys(b) terminator')\n",
      "('lys operon', 'Entereobacteria phage Mu ', ' Mup26', 'pLyz promoter', 'tLys(b) terminator')\n",
      "('lys operon', 'Entereobacteria phage Mu ', 'Mup22', 'pLyz promoter', 'tLys(b) terminator')\n",
      "('lys operon', 'Entereobacteria phage Mu ', ' Mup25', 'pLyz promoter', 'tLys(b) terminator')\n",
      "('lys operon', 'Entereobacteria phage Mu ', ' Mup23', 'pLyz promoter', 'tLys(b) terminator')\n",
      "('lys operon', 'Entereobacteria phage Mu ', ' Mup27', 'pLyz promoter', 'tLys(b) terminator')\n",
      "('lys operon', 'Entereobacteria phage Mu ', ' Mup31', 'pLyz promoter', 'tLys(b) terminator')\n",
      "('lys operon', 'Entereobacteria phage Mu ', ' Mup30', 'pLyz promoter', 'tLys(b) terminator')\n",
      "('lys operon', 'Entereobacteria phage Mu ', ' Mup28', 'pLyz promoter', 'tLys(b) terminator')\n",
      "('lys operon', 'Entereobacteria phage Mu ', ' Mup29', 'pLyz promoter', 'tLys(b) terminator')\n",
      "('P operon', 'Entereobacteria phage Mu ', ' Mup47 (gp47)', 'pP promoter', 'tP(G+) terminator')\n",
      "('P operon', 'Entereobacteria phage Mu ', ' Mup50 (U)', 'pP promoter', 'tP(G+) terminator')\n",
      "('P operon', 'Entereobacteria phage Mu ', ' Mup48 (gp48)', 'pP promoter', 'tP(G+) terminator')\n",
      "('P operon', 'Entereobacteria phage Mu ', ' Mup45 (gp45)', 'pP promoter', 'tP(G+) terminator')\n",
      "('P operon', 'Entereobacteria phage Mu ', 'Mup44 (P)', 'pP promoter', 'tP(G+) terminator')\n",
      "('P operon', 'Entereobacteria phage Mu ', ' Mup46 (gp46)', 'pP promoter', 'tP(G+) terminator')\n",
      "('P operon', 'Entereobacteria phage Mu ', ' Mup49 (S)', 'pP promoter', 'tP(G+) terminator')\n",
      "('P operon', 'Entereobacteria phage Mu ', ' Mup47 (gp47)', 'pP promoter', ' tP(G-) terminator')\n",
      "('P operon', 'Entereobacteria phage Mu ', ' Mup50 (U)', 'pP promoter', ' tP(G-) terminator')\n",
      "('P operon', 'Entereobacteria phage Mu ', ' Mup48 (gp48)', 'pP promoter', ' tP(G-) terminator')\n",
      "('P operon', 'Entereobacteria phage Mu ', ' Mup45 (gp45)', 'pP promoter', ' tP(G-) terminator')\n",
      "('P operon', 'Entereobacteria phage Mu ', 'Mup44 (P)', 'pP promoter', ' tP(G-) terminator')\n",
      "('P operon', 'Entereobacteria phage Mu ', ' Mup46 (gp46)', 'pP promoter', ' tP(G-) terminator')\n",
      "('P operon', 'Entereobacteria phage Mu ', ' Mup49 (S)', 'pP promoter', ' tP(G-) terminator')\n",
      "('middle operon', 'Entereobacteria phage Mu ', 'Mup18', 'Pm promoter', 'tM terminator')\n",
      "('middle operon', 'Entereobacteria phage Mu ', ' Mup19', 'Pm promoter', 'tM terminator')\n",
      "('middle operon', 'Entereobacteria phage Mu ', ' Mup20', 'Pm promoter', 'tM terminator')\n",
      "('middle operon', 'Entereobacteria phage Mu ', ' Mup21(C gene)', 'Pm promoter', 'tM terminator')\n",
      "('T7 early operon', 'Enterobacteria phage T7', ' gene1.2', 'A1 promoter', 'TE terminator')\n",
      "('T7 early operon', 'Enterobacteria phage T7', ' gene1', 'A1 promoter', 'TE terminator')\n",
      "('T7 early operon', 'Enterobacteria phage T7', ' gene0.5', 'A1 promoter', 'TE terminator')\n",
      "('T7 early operon', 'Enterobacteria phage T7', ' gene0.4', 'A1 promoter', 'TE terminator')\n",
      "('T7 early operon', 'Enterobacteria phage T7', ' gene1.3', 'A1 promoter', 'TE terminator')\n",
      "('T7 early operon', 'Enterobacteria phage T7', ' gene0.6B ', 'A1 promoter', 'TE terminator')\n",
      "('T7 early operon', 'Enterobacteria phage T7', 'gene0.3', 'A1 promoter', 'TE terminator')\n",
      "('T7 early operon', 'Enterobacteria phage T7', ' gene0.7', 'A1 promoter', 'TE terminator')\n",
      "('T7 early operon', 'Enterobacteria phage T7', ' gene0.6A', 'A1 promoter', 'TE terminator')\n",
      "('T7 early operon', 'Enterobacteria phage T7', ' gene1.1', 'A1 promoter', 'TE terminator')\n",
      "('T7 early operon', 'Enterobacteria phage T7', ' gene1.2', ' A2 promoter', 'TE terminator')\n",
      "('T7 early operon', 'Enterobacteria phage T7', ' gene1', ' A2 promoter', 'TE terminator')\n",
      "('T7 early operon', 'Enterobacteria phage T7', ' gene0.5', ' A2 promoter', 'TE terminator')\n",
      "('T7 early operon', 'Enterobacteria phage T7', ' gene0.4', ' A2 promoter', 'TE terminator')\n",
      "('T7 early operon', 'Enterobacteria phage T7', ' gene1.3', ' A2 promoter', 'TE terminator')\n",
      "('T7 early operon', 'Enterobacteria phage T7', ' gene0.6B ', ' A2 promoter', 'TE terminator')\n",
      "('T7 early operon', 'Enterobacteria phage T7', 'gene0.3', ' A2 promoter', 'TE terminator')\n",
      "('T7 early operon', 'Enterobacteria phage T7', ' gene0.7', ' A2 promoter', 'TE terminator')\n",
      "('T7 early operon', 'Enterobacteria phage T7', ' gene0.6A', ' A2 promoter', 'TE terminator')\n",
      "('T7 early operon', 'Enterobacteria phage T7', ' gene1.1', ' A2 promoter', 'TE terminator')\n",
      "('T7 early operon', 'Enterobacteria phage T7', ' gene1.2', ' A3 promoter', 'TE terminator')\n",
      "('T7 early operon', 'Enterobacteria phage T7', ' gene1', ' A3 promoter', 'TE terminator')\n",
      "('T7 early operon', 'Enterobacteria phage T7', ' gene0.5', ' A3 promoter', 'TE terminator')\n",
      "('T7 early operon', 'Enterobacteria phage T7', ' gene0.4', ' A3 promoter', 'TE terminator')\n",
      "('T7 early operon', 'Enterobacteria phage T7', ' gene1.3', ' A3 promoter', 'TE terminator')\n",
      "('T7 early operon', 'Enterobacteria phage T7', ' gene0.6B ', ' A3 promoter', 'TE terminator')\n",
      "('T7 early operon', 'Enterobacteria phage T7', 'gene0.3', ' A3 promoter', 'TE terminator')\n",
      "('T7 early operon', 'Enterobacteria phage T7', ' gene0.7', ' A3 promoter', 'TE terminator')\n",
      "('T7 early operon', 'Enterobacteria phage T7', ' gene0.6A', ' A3 promoter', 'TE terminator')\n",
      "('T7 early operon', 'Enterobacteria phage T7', ' gene1.1', ' A3 promoter', 'TE terminator')\n",
      "('T7 early operon', 'Enterobacteria phage T7', ' gene1.2', ' B promoter', 'TE terminator')\n",
      "('T7 early operon', 'Enterobacteria phage T7', ' gene1', ' B promoter', 'TE terminator')\n",
      "('T7 early operon', 'Enterobacteria phage T7', ' gene0.5', ' B promoter', 'TE terminator')\n",
      "('T7 early operon', 'Enterobacteria phage T7', ' gene0.4', ' B promoter', 'TE terminator')\n",
      "('T7 early operon', 'Enterobacteria phage T7', ' gene1.3', ' B promoter', 'TE terminator')\n",
      "('T7 early operon', 'Enterobacteria phage T7', ' gene0.6B ', ' B promoter', 'TE terminator')\n",
      "('T7 early operon', 'Enterobacteria phage T7', 'gene0.3', ' B promoter', 'TE terminator')\n",
      "('T7 early operon', 'Enterobacteria phage T7', ' gene0.7', ' B promoter', 'TE terminator')\n",
      "('T7 early operon', 'Enterobacteria phage T7', ' gene0.6A', ' B promoter', 'TE terminator')\n",
      "('T7 early operon', 'Enterobacteria phage T7', ' gene1.1', ' B promoter', 'TE terminator')\n",
      "('T7 early operon', 'Enterobacteria phage T7', ' gene1.2', ' C promoter', 'TE terminator')\n",
      "('T7 early operon', 'Enterobacteria phage T7', ' gene1', ' C promoter', 'TE terminator')\n",
      "('T7 early operon', 'Enterobacteria phage T7', ' gene0.5', ' C promoter', 'TE terminator')\n",
      "('T7 early operon', 'Enterobacteria phage T7', ' gene0.4', ' C promoter', 'TE terminator')\n",
      "('T7 early operon', 'Enterobacteria phage T7', ' gene1.3', ' C promoter', 'TE terminator')\n",
      "('T7 early operon', 'Enterobacteria phage T7', ' gene0.6B ', ' C promoter', 'TE terminator')\n",
      "('T7 early operon', 'Enterobacteria phage T7', 'gene0.3', ' C promoter', 'TE terminator')\n",
      "('T7 early operon', 'Enterobacteria phage T7', ' gene0.7', ' C promoter', 'TE terminator')\n",
      "('T7 early operon', 'Enterobacteria phage T7', ' gene0.6A', ' C promoter', 'TE terminator')\n",
      "('T7 early operon', 'Enterobacteria phage T7', ' gene1.1', ' C promoter', 'TE terminator')\n",
      "('T7 early operon', 'Enterobacteria phage T7', ' gene1.2', ' phi1.1A promoter', 'TE terminator')\n",
      "('T7 early operon', 'Enterobacteria phage T7', ' gene1', ' phi1.1A promoter', 'TE terminator')\n",
      "('T7 early operon', 'Enterobacteria phage T7', ' gene0.5', ' phi1.1A promoter', 'TE terminator')\n",
      "('T7 early operon', 'Enterobacteria phage T7', ' gene0.4', ' phi1.1A promoter', 'TE terminator')\n",
      "('T7 early operon', 'Enterobacteria phage T7', ' gene1.3', ' phi1.1A promoter', 'TE terminator')\n",
      "('T7 early operon', 'Enterobacteria phage T7', ' gene0.6B ', ' phi1.1A promoter', 'TE terminator')\n",
      "('T7 early operon', 'Enterobacteria phage T7', 'gene0.3', ' phi1.1A promoter', 'TE terminator')\n",
      "('T7 early operon', 'Enterobacteria phage T7', ' gene0.7', ' phi1.1A promoter', 'TE terminator')\n",
      "('T7 early operon', 'Enterobacteria phage T7', ' gene0.6A', ' phi1.1A promoter', 'TE terminator')\n",
      "('T7 early operon', 'Enterobacteria phage T7', ' gene1.1', ' phi1.1A promoter', 'TE terminator')\n",
      "('T7 early operon', 'Enterobacteria phage T7', ' gene1.2', ' phi1.1B promoter', 'TE terminator')\n",
      "('T7 early operon', 'Enterobacteria phage T7', ' gene1', ' phi1.1B promoter', 'TE terminator')\n",
      "('T7 early operon', 'Enterobacteria phage T7', ' gene0.5', ' phi1.1B promoter', 'TE terminator')\n",
      "('T7 early operon', 'Enterobacteria phage T7', ' gene0.4', ' phi1.1B promoter', 'TE terminator')\n",
      "('T7 early operon', 'Enterobacteria phage T7', ' gene1.3', ' phi1.1B promoter', 'TE terminator')\n",
      "('T7 early operon', 'Enterobacteria phage T7', ' gene0.6B ', ' phi1.1B promoter', 'TE terminator')\n",
      "('T7 early operon', 'Enterobacteria phage T7', 'gene0.3', ' phi1.1B promoter', 'TE terminator')\n",
      "('T7 early operon', 'Enterobacteria phage T7', ' gene0.7', ' phi1.1B promoter', 'TE terminator')\n",
      "('T7 early operon', 'Enterobacteria phage T7', ' gene0.6A', ' phi1.1B promoter', 'TE terminator')\n",
      "('T7 early operon', 'Enterobacteria phage T7', ' gene1.1', ' phi1.1B promoter', 'TE terminator')\n",
      "('T7 early operon', 'Enterobacteria phage T7', ' gene1.2', ' phi1.3 promoter', 'TE terminator')\n",
      "('T7 early operon', 'Enterobacteria phage T7', ' gene1', ' phi1.3 promoter', 'TE terminator')\n",
      "('T7 early operon', 'Enterobacteria phage T7', ' gene0.5', ' phi1.3 promoter', 'TE terminator')\n",
      "('T7 early operon', 'Enterobacteria phage T7', ' gene0.4', ' phi1.3 promoter', 'TE terminator')\n",
      "('T7 early operon', 'Enterobacteria phage T7', ' gene1.3', ' phi1.3 promoter', 'TE terminator')\n",
      "('T7 early operon', 'Enterobacteria phage T7', ' gene0.6B ', ' phi1.3 promoter', 'TE terminator')\n",
      "('T7 early operon', 'Enterobacteria phage T7', 'gene0.3', ' phi1.3 promoter', 'TE terminator')\n",
      "('T7 early operon', 'Enterobacteria phage T7', ' gene0.7', ' phi1.3 promoter', 'TE terminator')\n",
      "('T7 early operon', 'Enterobacteria phage T7', ' gene0.6A', ' phi1.3 promoter', 'TE terminator')\n",
      "('T7 early operon', 'Enterobacteria phage T7', ' gene1.1', ' phi1.3 promoter', 'TE terminator')\n",
      "('phage lambda leftward operon', 'Enterobacteria phage lambda', ' int', 'PI promoter', 'tI terminator')\n",
      "('phage lambda leftward operon', 'Enterobacteria phage lambda', ' ral', 'PI promoter', 'tI terminator')\n",
      "('phage lambda leftward operon', 'Enterobacteria phage lambda', 'xis', 'PI promoter', 'tI terminator')\n",
      "('phage lambda leftward operon', 'Enterobacteria phage lambda', ' ea8,5', 'PI promoter', 'tI terminator')\n",
      "('phage lambda leftward operon', 'Enterobacteria phage lambda', ' orf61', 'PI promoter', 'tI terminator')\n",
      "('phage lambda leftward operon', 'Enterobacteria phage lambda', ' orf63', 'PI promoter', 'tI terminator')\n",
      "('phage lambda leftward operon', 'Enterobacteria phage lambda', ' orf60a', 'PI promoter', 'tI terminator')\n",
      "('phage lambda leftward operon', 'Enterobacteria phage lambda', ' gam', 'PI promoter', 'tI terminator')\n",
      "('phage lambda leftward operon', 'Enterobacteria phage lambda', ' orf28', 'PI promoter', 'tI terminator')\n",
      "('phage lambda leftward operon', 'Enterobacteria phage lambda', ' exo', 'PI promoter', 'tI terminator')\n",
      "('phage lambda leftward operon', 'Enterobacteria phage lambda', 'locus35', 'PI promoter', 'tI terminator')\n",
      "('phage lambda leftward operon', 'Enterobacteria phage lambda', 'N', 'PI promoter', 'tI terminator')\n",
      "('phage lambda leftward operon', 'Enterobacteria phage lambda', ' ea10', 'PI promoter', 'tI terminator')\n",
      "('phage lambda leftward operon', 'Enterobacteria phage lambda', ' ea22', 'PI promoter', 'tI terminator')\n",
      "('phage lambda leftward operon', 'Enterobacteria phage lambda', ' bet', 'PI promoter', 'tI terminator')\n",
      "('phage lambda leftward operon', 'Enterobacteria phage lambda', ' cIII', 'PI promoter', 'tI terminator')\n",
      "('phage lambda leftward operon', 'Enterobacteria phage lambda', ' kil', 'PI promoter', 'tI terminator')\n",
      "('phage lambda leftward operon', 'Enterobacteria phage lambda', ' int', ' PL1 promoter', 'tI terminator')\n",
      "('phage lambda leftward operon', 'Enterobacteria phage lambda', ' ral', ' PL1 promoter', 'tI terminator')\n",
      "('phage lambda leftward operon', 'Enterobacteria phage lambda', 'xis', ' PL1 promoter', 'tI terminator')\n",
      "('phage lambda leftward operon', 'Enterobacteria phage lambda', ' ea8,5', ' PL1 promoter', 'tI terminator')\n",
      "('phage lambda leftward operon', 'Enterobacteria phage lambda', ' orf61', ' PL1 promoter', 'tI terminator')\n",
      "('phage lambda leftward operon', 'Enterobacteria phage lambda', ' orf63', ' PL1 promoter', 'tI terminator')\n",
      "('phage lambda leftward operon', 'Enterobacteria phage lambda', ' orf60a', ' PL1 promoter', 'tI terminator')\n",
      "('phage lambda leftward operon', 'Enterobacteria phage lambda', ' gam', ' PL1 promoter', 'tI terminator')\n",
      "('phage lambda leftward operon', 'Enterobacteria phage lambda', ' orf28', ' PL1 promoter', 'tI terminator')\n",
      "('phage lambda leftward operon', 'Enterobacteria phage lambda', ' exo', ' PL1 promoter', 'tI terminator')\n",
      "('phage lambda leftward operon', 'Enterobacteria phage lambda', 'locus35', ' PL1 promoter', 'tI terminator')\n",
      "('phage lambda leftward operon', 'Enterobacteria phage lambda', 'N', ' PL1 promoter', 'tI terminator')\n",
      "('phage lambda leftward operon', 'Enterobacteria phage lambda', ' ea10', ' PL1 promoter', 'tI terminator')\n",
      "('phage lambda leftward operon', 'Enterobacteria phage lambda', ' ea22', ' PL1 promoter', 'tI terminator')\n",
      "('phage lambda leftward operon', 'Enterobacteria phage lambda', ' bet', ' PL1 promoter', 'tI terminator')\n",
      "('phage lambda leftward operon', 'Enterobacteria phage lambda', ' cIII', ' PL1 promoter', 'tI terminator')\n",
      "('phage lambda leftward operon', 'Enterobacteria phage lambda', ' kil', ' PL1 promoter', 'tI terminator')\n",
      "('phage lambda leftward operon', 'Enterobacteria phage lambda', ' int', ' PL2 promoter', 'tI terminator')\n",
      "('phage lambda leftward operon', 'Enterobacteria phage lambda', ' ral', ' PL2 promoter', 'tI terminator')\n",
      "('phage lambda leftward operon', 'Enterobacteria phage lambda', 'xis', ' PL2 promoter', 'tI terminator')\n",
      "('phage lambda leftward operon', 'Enterobacteria phage lambda', ' ea8,5', ' PL2 promoter', 'tI terminator')\n",
      "('phage lambda leftward operon', 'Enterobacteria phage lambda', ' orf61', ' PL2 promoter', 'tI terminator')\n",
      "('phage lambda leftward operon', 'Enterobacteria phage lambda', ' orf63', ' PL2 promoter', 'tI terminator')\n",
      "('phage lambda leftward operon', 'Enterobacteria phage lambda', ' orf60a', ' PL2 promoter', 'tI terminator')\n",
      "('phage lambda leftward operon', 'Enterobacteria phage lambda', ' gam', ' PL2 promoter', 'tI terminator')\n",
      "('phage lambda leftward operon', 'Enterobacteria phage lambda', ' orf28', ' PL2 promoter', 'tI terminator')\n",
      "('phage lambda leftward operon', 'Enterobacteria phage lambda', ' exo', ' PL2 promoter', 'tI terminator')\n",
      "('phage lambda leftward operon', 'Enterobacteria phage lambda', 'locus35', ' PL2 promoter', 'tI terminator')\n",
      "('phage lambda leftward operon', 'Enterobacteria phage lambda', 'N', ' PL2 promoter', 'tI terminator')\n",
      "('phage lambda leftward operon', 'Enterobacteria phage lambda', ' ea10', ' PL2 promoter', 'tI terminator')\n",
      "('phage lambda leftward operon', 'Enterobacteria phage lambda', ' ea22', ' PL2 promoter', 'tI terminator')\n",
      "('phage lambda leftward operon', 'Enterobacteria phage lambda', ' bet', ' PL2 promoter', 'tI terminator')\n",
      "('phage lambda leftward operon', 'Enterobacteria phage lambda', ' cIII', ' PL2 promoter', 'tI terminator')\n",
      "('phage lambda leftward operon', 'Enterobacteria phage lambda', ' kil', ' PL2 promoter', 'tI terminator')\n",
      "('phage lambda leftward operon', 'Enterobacteria phage lambda', ' int', 'PI promoter', ' tL1 terminator')\n",
      "('phage lambda leftward operon', 'Enterobacteria phage lambda', ' ral', 'PI promoter', ' tL1 terminator')\n",
      "('phage lambda leftward operon', 'Enterobacteria phage lambda', 'xis', 'PI promoter', ' tL1 terminator')\n",
      "('phage lambda leftward operon', 'Enterobacteria phage lambda', ' ea8,5', 'PI promoter', ' tL1 terminator')\n",
      "('phage lambda leftward operon', 'Enterobacteria phage lambda', ' orf61', 'PI promoter', ' tL1 terminator')\n",
      "('phage lambda leftward operon', 'Enterobacteria phage lambda', ' orf63', 'PI promoter', ' tL1 terminator')\n",
      "('phage lambda leftward operon', 'Enterobacteria phage lambda', ' orf60a', 'PI promoter', ' tL1 terminator')\n",
      "('phage lambda leftward operon', 'Enterobacteria phage lambda', ' gam', 'PI promoter', ' tL1 terminator')\n",
      "('phage lambda leftward operon', 'Enterobacteria phage lambda', ' orf28', 'PI promoter', ' tL1 terminator')\n",
      "('phage lambda leftward operon', 'Enterobacteria phage lambda', ' exo', 'PI promoter', ' tL1 terminator')\n",
      "('phage lambda leftward operon', 'Enterobacteria phage lambda', 'locus35', 'PI promoter', ' tL1 terminator')\n",
      "('phage lambda leftward operon', 'Enterobacteria phage lambda', 'N', 'PI promoter', ' tL1 terminator')\n",
      "('phage lambda leftward operon', 'Enterobacteria phage lambda', ' ea10', 'PI promoter', ' tL1 terminator')\n",
      "('phage lambda leftward operon', 'Enterobacteria phage lambda', ' ea22', 'PI promoter', ' tL1 terminator')\n",
      "('phage lambda leftward operon', 'Enterobacteria phage lambda', ' bet', 'PI promoter', ' tL1 terminator')\n",
      "('phage lambda leftward operon', 'Enterobacteria phage lambda', ' cIII', 'PI promoter', ' tL1 terminator')\n",
      "('phage lambda leftward operon', 'Enterobacteria phage lambda', ' kil', 'PI promoter', ' tL1 terminator')\n",
      "('phage lambda leftward operon', 'Enterobacteria phage lambda', ' int', ' PL1 promoter', ' tL1 terminator')\n",
      "('phage lambda leftward operon', 'Enterobacteria phage lambda', ' ral', ' PL1 promoter', ' tL1 terminator')\n",
      "('phage lambda leftward operon', 'Enterobacteria phage lambda', 'xis', ' PL1 promoter', ' tL1 terminator')\n",
      "('phage lambda leftward operon', 'Enterobacteria phage lambda', ' ea8,5', ' PL1 promoter', ' tL1 terminator')\n",
      "('phage lambda leftward operon', 'Enterobacteria phage lambda', ' orf61', ' PL1 promoter', ' tL1 terminator')\n",
      "('phage lambda leftward operon', 'Enterobacteria phage lambda', ' orf63', ' PL1 promoter', ' tL1 terminator')\n",
      "('phage lambda leftward operon', 'Enterobacteria phage lambda', ' orf60a', ' PL1 promoter', ' tL1 terminator')\n",
      "('phage lambda leftward operon', 'Enterobacteria phage lambda', ' gam', ' PL1 promoter', ' tL1 terminator')\n",
      "('phage lambda leftward operon', 'Enterobacteria phage lambda', ' orf28', ' PL1 promoter', ' tL1 terminator')\n",
      "('phage lambda leftward operon', 'Enterobacteria phage lambda', ' exo', ' PL1 promoter', ' tL1 terminator')\n",
      "('phage lambda leftward operon', 'Enterobacteria phage lambda', 'locus35', ' PL1 promoter', ' tL1 terminator')\n",
      "('phage lambda leftward operon', 'Enterobacteria phage lambda', 'N', ' PL1 promoter', ' tL1 terminator')\n",
      "('phage lambda leftward operon', 'Enterobacteria phage lambda', ' ea10', ' PL1 promoter', ' tL1 terminator')\n",
      "('phage lambda leftward operon', 'Enterobacteria phage lambda', ' ea22', ' PL1 promoter', ' tL1 terminator')\n",
      "('phage lambda leftward operon', 'Enterobacteria phage lambda', ' bet', ' PL1 promoter', ' tL1 terminator')\n",
      "('phage lambda leftward operon', 'Enterobacteria phage lambda', ' cIII', ' PL1 promoter', ' tL1 terminator')\n",
      "('phage lambda leftward operon', 'Enterobacteria phage lambda', ' kil', ' PL1 promoter', ' tL1 terminator')\n",
      "('phage lambda leftward operon', 'Enterobacteria phage lambda', ' int', ' PL2 promoter', ' tL1 terminator')\n",
      "('phage lambda leftward operon', 'Enterobacteria phage lambda', ' ral', ' PL2 promoter', ' tL1 terminator')\n",
      "('phage lambda leftward operon', 'Enterobacteria phage lambda', 'xis', ' PL2 promoter', ' tL1 terminator')\n",
      "('phage lambda leftward operon', 'Enterobacteria phage lambda', ' ea8,5', ' PL2 promoter', ' tL1 terminator')\n",
      "('phage lambda leftward operon', 'Enterobacteria phage lambda', ' orf61', ' PL2 promoter', ' tL1 terminator')\n",
      "('phage lambda leftward operon', 'Enterobacteria phage lambda', ' orf63', ' PL2 promoter', ' tL1 terminator')\n",
      "('phage lambda leftward operon', 'Enterobacteria phage lambda', ' orf60a', ' PL2 promoter', ' tL1 terminator')\n",
      "('phage lambda leftward operon', 'Enterobacteria phage lambda', ' gam', ' PL2 promoter', ' tL1 terminator')\n",
      "('phage lambda leftward operon', 'Enterobacteria phage lambda', ' orf28', ' PL2 promoter', ' tL1 terminator')\n",
      "('phage lambda leftward operon', 'Enterobacteria phage lambda', ' exo', ' PL2 promoter', ' tL1 terminator')\n",
      "('phage lambda leftward operon', 'Enterobacteria phage lambda', 'locus35', ' PL2 promoter', ' tL1 terminator')\n",
      "('phage lambda leftward operon', 'Enterobacteria phage lambda', 'N', ' PL2 promoter', ' tL1 terminator')\n",
      "('phage lambda leftward operon', 'Enterobacteria phage lambda', ' ea10', ' PL2 promoter', ' tL1 terminator')\n",
      "('phage lambda leftward operon', 'Enterobacteria phage lambda', ' ea22', ' PL2 promoter', ' tL1 terminator')\n",
      "('phage lambda leftward operon', 'Enterobacteria phage lambda', ' bet', ' PL2 promoter', ' tL1 terminator')\n",
      "('phage lambda leftward operon', 'Enterobacteria phage lambda', ' cIII', ' PL2 promoter', ' tL1 terminator')\n",
      "('phage lambda leftward operon', 'Enterobacteria phage lambda', ' kil', ' PL2 promoter', ' tL1 terminator')\n",
      "('phage lambda leftward operon', 'Enterobacteria phage lambda', ' int', 'PI promoter', ' tL2 terminator')\n",
      "('phage lambda leftward operon', 'Enterobacteria phage lambda', ' ral', 'PI promoter', ' tL2 terminator')\n",
      "('phage lambda leftward operon', 'Enterobacteria phage lambda', 'xis', 'PI promoter', ' tL2 terminator')\n",
      "('phage lambda leftward operon', 'Enterobacteria phage lambda', ' ea8,5', 'PI promoter', ' tL2 terminator')\n",
      "('phage lambda leftward operon', 'Enterobacteria phage lambda', ' orf61', 'PI promoter', ' tL2 terminator')\n",
      "('phage lambda leftward operon', 'Enterobacteria phage lambda', ' orf63', 'PI promoter', ' tL2 terminator')\n",
      "('phage lambda leftward operon', 'Enterobacteria phage lambda', ' orf60a', 'PI promoter', ' tL2 terminator')\n",
      "('phage lambda leftward operon', 'Enterobacteria phage lambda', ' gam', 'PI promoter', ' tL2 terminator')\n",
      "('phage lambda leftward operon', 'Enterobacteria phage lambda', ' orf28', 'PI promoter', ' tL2 terminator')\n",
      "('phage lambda leftward operon', 'Enterobacteria phage lambda', ' exo', 'PI promoter', ' tL2 terminator')\n",
      "('phage lambda leftward operon', 'Enterobacteria phage lambda', 'locus35', 'PI promoter', ' tL2 terminator')\n",
      "('phage lambda leftward operon', 'Enterobacteria phage lambda', 'N', 'PI promoter', ' tL2 terminator')\n",
      "('phage lambda leftward operon', 'Enterobacteria phage lambda', ' ea10', 'PI promoter', ' tL2 terminator')\n",
      "('phage lambda leftward operon', 'Enterobacteria phage lambda', ' ea22', 'PI promoter', ' tL2 terminator')\n",
      "('phage lambda leftward operon', 'Enterobacteria phage lambda', ' bet', 'PI promoter', ' tL2 terminator')\n",
      "('phage lambda leftward operon', 'Enterobacteria phage lambda', ' cIII', 'PI promoter', ' tL2 terminator')\n",
      "('phage lambda leftward operon', 'Enterobacteria phage lambda', ' kil', 'PI promoter', ' tL2 terminator')\n",
      "('phage lambda leftward operon', 'Enterobacteria phage lambda', ' int', ' PL1 promoter', ' tL2 terminator')\n",
      "('phage lambda leftward operon', 'Enterobacteria phage lambda', ' ral', ' PL1 promoter', ' tL2 terminator')\n",
      "('phage lambda leftward operon', 'Enterobacteria phage lambda', 'xis', ' PL1 promoter', ' tL2 terminator')\n",
      "('phage lambda leftward operon', 'Enterobacteria phage lambda', ' ea8,5', ' PL1 promoter', ' tL2 terminator')\n",
      "('phage lambda leftward operon', 'Enterobacteria phage lambda', ' orf61', ' PL1 promoter', ' tL2 terminator')\n",
      "('phage lambda leftward operon', 'Enterobacteria phage lambda', ' orf63', ' PL1 promoter', ' tL2 terminator')\n",
      "('phage lambda leftward operon', 'Enterobacteria phage lambda', ' orf60a', ' PL1 promoter', ' tL2 terminator')\n",
      "('phage lambda leftward operon', 'Enterobacteria phage lambda', ' gam', ' PL1 promoter', ' tL2 terminator')\n",
      "('phage lambda leftward operon', 'Enterobacteria phage lambda', ' orf28', ' PL1 promoter', ' tL2 terminator')\n",
      "('phage lambda leftward operon', 'Enterobacteria phage lambda', ' exo', ' PL1 promoter', ' tL2 terminator')\n",
      "('phage lambda leftward operon', 'Enterobacteria phage lambda', 'locus35', ' PL1 promoter', ' tL2 terminator')\n",
      "('phage lambda leftward operon', 'Enterobacteria phage lambda', 'N', ' PL1 promoter', ' tL2 terminator')\n",
      "('phage lambda leftward operon', 'Enterobacteria phage lambda', ' ea10', ' PL1 promoter', ' tL2 terminator')\n",
      "('phage lambda leftward operon', 'Enterobacteria phage lambda', ' ea22', ' PL1 promoter', ' tL2 terminator')\n",
      "('phage lambda leftward operon', 'Enterobacteria phage lambda', ' bet', ' PL1 promoter', ' tL2 terminator')\n",
      "('phage lambda leftward operon', 'Enterobacteria phage lambda', ' cIII', ' PL1 promoter', ' tL2 terminator')\n",
      "('phage lambda leftward operon', 'Enterobacteria phage lambda', ' kil', ' PL1 promoter', ' tL2 terminator')\n",
      "('phage lambda leftward operon', 'Enterobacteria phage lambda', ' int', ' PL2 promoter', ' tL2 terminator')\n",
      "('phage lambda leftward operon', 'Enterobacteria phage lambda', ' ral', ' PL2 promoter', ' tL2 terminator')\n",
      "('phage lambda leftward operon', 'Enterobacteria phage lambda', 'xis', ' PL2 promoter', ' tL2 terminator')\n",
      "('phage lambda leftward operon', 'Enterobacteria phage lambda', ' ea8,5', ' PL2 promoter', ' tL2 terminator')\n",
      "('phage lambda leftward operon', 'Enterobacteria phage lambda', ' orf61', ' PL2 promoter', ' tL2 terminator')\n",
      "('phage lambda leftward operon', 'Enterobacteria phage lambda', ' orf63', ' PL2 promoter', ' tL2 terminator')\n",
      "('phage lambda leftward operon', 'Enterobacteria phage lambda', ' orf60a', ' PL2 promoter', ' tL2 terminator')\n",
      "('phage lambda leftward operon', 'Enterobacteria phage lambda', ' gam', ' PL2 promoter', ' tL2 terminator')\n",
      "('phage lambda leftward operon', 'Enterobacteria phage lambda', ' orf28', ' PL2 promoter', ' tL2 terminator')\n",
      "('phage lambda leftward operon', 'Enterobacteria phage lambda', ' exo', ' PL2 promoter', ' tL2 terminator')\n",
      "('phage lambda leftward operon', 'Enterobacteria phage lambda', 'locus35', ' PL2 promoter', ' tL2 terminator')\n",
      "('phage lambda leftward operon', 'Enterobacteria phage lambda', 'N', ' PL2 promoter', ' tL2 terminator')\n",
      "('phage lambda leftward operon', 'Enterobacteria phage lambda', ' ea10', ' PL2 promoter', ' tL2 terminator')\n",
      "('phage lambda leftward operon', 'Enterobacteria phage lambda', ' ea22', ' PL2 promoter', ' tL2 terminator')\n",
      "('phage lambda leftward operon', 'Enterobacteria phage lambda', ' bet', ' PL2 promoter', ' tL2 terminator')\n",
      "('phage lambda leftward operon', 'Enterobacteria phage lambda', ' cIII', ' PL2 promoter', ' tL2 terminator')\n",
      "('phage lambda leftward operon', 'Enterobacteria phage lambda', ' kil', ' PL2 promoter', ' tL2 terminator')\n",
      "('phage lambda leftward operon', 'Enterobacteria phage lambda', ' int', 'PI promoter', ' tL3 terminator')\n",
      "('phage lambda leftward operon', 'Enterobacteria phage lambda', ' ral', 'PI promoter', ' tL3 terminator')\n",
      "('phage lambda leftward operon', 'Enterobacteria phage lambda', 'xis', 'PI promoter', ' tL3 terminator')\n",
      "('phage lambda leftward operon', 'Enterobacteria phage lambda', ' ea8,5', 'PI promoter', ' tL3 terminator')\n",
      "('phage lambda leftward operon', 'Enterobacteria phage lambda', ' orf61', 'PI promoter', ' tL3 terminator')\n",
      "('phage lambda leftward operon', 'Enterobacteria phage lambda', ' orf63', 'PI promoter', ' tL3 terminator')\n",
      "('phage lambda leftward operon', 'Enterobacteria phage lambda', ' orf60a', 'PI promoter', ' tL3 terminator')\n",
      "('phage lambda leftward operon', 'Enterobacteria phage lambda', ' gam', 'PI promoter', ' tL3 terminator')\n",
      "('phage lambda leftward operon', 'Enterobacteria phage lambda', ' orf28', 'PI promoter', ' tL3 terminator')\n",
      "('phage lambda leftward operon', 'Enterobacteria phage lambda', ' exo', 'PI promoter', ' tL3 terminator')\n",
      "('phage lambda leftward operon', 'Enterobacteria phage lambda', 'locus35', 'PI promoter', ' tL3 terminator')\n",
      "('phage lambda leftward operon', 'Enterobacteria phage lambda', 'N', 'PI promoter', ' tL3 terminator')\n",
      "('phage lambda leftward operon', 'Enterobacteria phage lambda', ' ea10', 'PI promoter', ' tL3 terminator')\n",
      "('phage lambda leftward operon', 'Enterobacteria phage lambda', ' ea22', 'PI promoter', ' tL3 terminator')\n",
      "('phage lambda leftward operon', 'Enterobacteria phage lambda', ' bet', 'PI promoter', ' tL3 terminator')\n",
      "('phage lambda leftward operon', 'Enterobacteria phage lambda', ' cIII', 'PI promoter', ' tL3 terminator')\n",
      "('phage lambda leftward operon', 'Enterobacteria phage lambda', ' kil', 'PI promoter', ' tL3 terminator')\n",
      "('phage lambda leftward operon', 'Enterobacteria phage lambda', ' int', ' PL1 promoter', ' tL3 terminator')\n",
      "('phage lambda leftward operon', 'Enterobacteria phage lambda', ' ral', ' PL1 promoter', ' tL3 terminator')\n",
      "('phage lambda leftward operon', 'Enterobacteria phage lambda', 'xis', ' PL1 promoter', ' tL3 terminator')\n",
      "('phage lambda leftward operon', 'Enterobacteria phage lambda', ' ea8,5', ' PL1 promoter', ' tL3 terminator')\n",
      "('phage lambda leftward operon', 'Enterobacteria phage lambda', ' orf61', ' PL1 promoter', ' tL3 terminator')\n",
      "('phage lambda leftward operon', 'Enterobacteria phage lambda', ' orf63', ' PL1 promoter', ' tL3 terminator')\n",
      "('phage lambda leftward operon', 'Enterobacteria phage lambda', ' orf60a', ' PL1 promoter', ' tL3 terminator')\n",
      "('phage lambda leftward operon', 'Enterobacteria phage lambda', ' gam', ' PL1 promoter', ' tL3 terminator')\n",
      "('phage lambda leftward operon', 'Enterobacteria phage lambda', ' orf28', ' PL1 promoter', ' tL3 terminator')\n",
      "('phage lambda leftward operon', 'Enterobacteria phage lambda', ' exo', ' PL1 promoter', ' tL3 terminator')\n",
      "('phage lambda leftward operon', 'Enterobacteria phage lambda', 'locus35', ' PL1 promoter', ' tL3 terminator')\n",
      "('phage lambda leftward operon', 'Enterobacteria phage lambda', 'N', ' PL1 promoter', ' tL3 terminator')\n",
      "('phage lambda leftward operon', 'Enterobacteria phage lambda', ' ea10', ' PL1 promoter', ' tL3 terminator')\n",
      "('phage lambda leftward operon', 'Enterobacteria phage lambda', ' ea22', ' PL1 promoter', ' tL3 terminator')\n",
      "('phage lambda leftward operon', 'Enterobacteria phage lambda', ' bet', ' PL1 promoter', ' tL3 terminator')\n",
      "('phage lambda leftward operon', 'Enterobacteria phage lambda', ' cIII', ' PL1 promoter', ' tL3 terminator')\n",
      "('phage lambda leftward operon', 'Enterobacteria phage lambda', ' kil', ' PL1 promoter', ' tL3 terminator')\n",
      "('phage lambda leftward operon', 'Enterobacteria phage lambda', ' int', ' PL2 promoter', ' tL3 terminator')\n",
      "('phage lambda leftward operon', 'Enterobacteria phage lambda', ' ral', ' PL2 promoter', ' tL3 terminator')\n",
      "('phage lambda leftward operon', 'Enterobacteria phage lambda', 'xis', ' PL2 promoter', ' tL3 terminator')\n",
      "('phage lambda leftward operon', 'Enterobacteria phage lambda', ' ea8,5', ' PL2 promoter', ' tL3 terminator')\n",
      "('phage lambda leftward operon', 'Enterobacteria phage lambda', ' orf61', ' PL2 promoter', ' tL3 terminator')\n",
      "('phage lambda leftward operon', 'Enterobacteria phage lambda', ' orf63', ' PL2 promoter', ' tL3 terminator')\n",
      "('phage lambda leftward operon', 'Enterobacteria phage lambda', ' orf60a', ' PL2 promoter', ' tL3 terminator')\n",
      "('phage lambda leftward operon', 'Enterobacteria phage lambda', ' gam', ' PL2 promoter', ' tL3 terminator')\n",
      "('phage lambda leftward operon', 'Enterobacteria phage lambda', ' orf28', ' PL2 promoter', ' tL3 terminator')\n",
      "('phage lambda leftward operon', 'Enterobacteria phage lambda', ' exo', ' PL2 promoter', ' tL3 terminator')\n",
      "('phage lambda leftward operon', 'Enterobacteria phage lambda', 'locus35', ' PL2 promoter', ' tL3 terminator')\n",
      "('phage lambda leftward operon', 'Enterobacteria phage lambda', 'N', ' PL2 promoter', ' tL3 terminator')\n",
      "('phage lambda leftward operon', 'Enterobacteria phage lambda', ' ea10', ' PL2 promoter', ' tL3 terminator')\n",
      "('phage lambda leftward operon', 'Enterobacteria phage lambda', ' ea22', ' PL2 promoter', ' tL3 terminator')\n",
      "('phage lambda leftward operon', 'Enterobacteria phage lambda', ' bet', ' PL2 promoter', ' tL3 terminator')\n",
      "('phage lambda leftward operon', 'Enterobacteria phage lambda', ' cIII', ' PL2 promoter', ' tL3 terminator')\n",
      "('phage lambda leftward operon', 'Enterobacteria phage lambda', ' kil', ' PL2 promoter', ' tL3 terminator')\n",
      "('phage lambda rigthward operon', 'Enterobacteria phage lambda', 'cro', 'PR promoter', 'tR1 terminator')\n",
      "('phage lambda rigthward operon', 'Enterobacteria phage lambda', ' NinG', 'PR promoter', 'tR1 terminator')\n",
      "('phage lambda rigthward operon', 'Enterobacteria phage lambda', ' NinH', 'PR promoter', 'tR1 terminator')\n",
      "('phage lambda rigthward operon', 'Enterobacteria phage lambda', ' NinI', 'PR promoter', 'tR1 terminator')\n",
      "('phage lambda rigthward operon', 'Enterobacteria phage lambda', ' Q', 'PR promoter', 'tR1 terminator')\n",
      "('phage lambda rigthward operon', 'Enterobacteria phage lambda', ' cII', 'PR promoter', 'tR1 terminator')\n",
      "('phage lambda rigthward operon', 'Enterobacteria phage lambda', ' P', 'PR promoter', 'tR1 terminator')\n",
      "('phage lambda rigthward operon', 'Enterobacteria phage lambda', ' ren', 'PR promoter', 'tR1 terminator')\n",
      "('phage lambda rigthward operon', 'Enterobacteria phage lambda', ' NinB', 'PR promoter', 'tR1 terminator')\n",
      "('phage lambda rigthward operon', 'Enterobacteria phage lambda', ' NinC', 'PR promoter', 'tR1 terminator')\n",
      "('phage lambda rigthward operon', 'Enterobacteria phage lambda', ' NinD', 'PR promoter', 'tR1 terminator')\n",
      "('phage lambda rigthward operon', 'Enterobacteria phage lambda', ' NinE', 'PR promoter', 'tR1 terminator')\n",
      "('phage lambda rigthward operon', 'Enterobacteria phage lambda', ' NinF', 'PR promoter', 'tR1 terminator')\n",
      "('phage lambda rigthward operon', 'Enterobacteria phage lambda', ' O', 'PR promoter', 'tR1 terminator')\n",
      "('phage lambda rigthward operon', 'Enterobacteria phage lambda', 'cro', 'PR promoter', ' tR2 terminator')\n",
      "('phage lambda rigthward operon', 'Enterobacteria phage lambda', ' NinG', 'PR promoter', ' tR2 terminator')\n",
      "('phage lambda rigthward operon', 'Enterobacteria phage lambda', ' NinH', 'PR promoter', ' tR2 terminator')\n",
      "('phage lambda rigthward operon', 'Enterobacteria phage lambda', ' NinI', 'PR promoter', ' tR2 terminator')\n",
      "('phage lambda rigthward operon', 'Enterobacteria phage lambda', ' Q', 'PR promoter', ' tR2 terminator')\n",
      "('phage lambda rigthward operon', 'Enterobacteria phage lambda', ' cII', 'PR promoter', ' tR2 terminator')\n",
      "('phage lambda rigthward operon', 'Enterobacteria phage lambda', ' P', 'PR promoter', ' tR2 terminator')\n",
      "('phage lambda rigthward operon', 'Enterobacteria phage lambda', ' ren', 'PR promoter', ' tR2 terminator')\n",
      "('phage lambda rigthward operon', 'Enterobacteria phage lambda', ' NinB', 'PR promoter', ' tR2 terminator')\n",
      "('phage lambda rigthward operon', 'Enterobacteria phage lambda', ' NinC', 'PR promoter', ' tR2 terminator')\n",
      "('phage lambda rigthward operon', 'Enterobacteria phage lambda', ' NinD', 'PR promoter', ' tR2 terminator')\n",
      "('phage lambda rigthward operon', 'Enterobacteria phage lambda', ' NinE', 'PR promoter', ' tR2 terminator')\n",
      "('phage lambda rigthward operon', 'Enterobacteria phage lambda', ' NinF', 'PR promoter', ' tR2 terminator')\n",
      "('phage lambda rigthward operon', 'Enterobacteria phage lambda', ' O', 'PR promoter', ' tR2 terminator')\n",
      "('phage lambda later operon', 'Enterobacteria phage lambda', 'orf-64', \"PR' promoter\", \"tR' terminator\")\n",
      "('phage lambda later operon', 'Enterobacteria phage lambda', ' S', \"PR' promoter\", \"tR' terminator\")\n",
      "('phage lambda later operon', 'Enterobacteria phage lambda', ' R', \"PR' promoter\", \"tR' terminator\")\n",
      "('phage lambda later operon', 'Enterobacteria phage lambda', ' Rz', \"PR' promoter\", \"tR' terminator\")\n",
      "('phage lambda later operon', 'Enterobacteria phage lambda', ' Rz1', \"PR' promoter\", \"tR' terminator\")\n",
      "('phage lambda later operon', 'Enterobacteria phage lambda', \" S'\", \"PR' promoter\", \"tR' terminator\")\n",
      "('gtrABC operon', 'Salmonella phage P22', ' gtrB', 'promoter', 'terminator')\n",
      "('gtrABC operon', 'Salmonella phage P22', 'gtrA', 'promoter', 'terminator')\n",
      "('gtrABC operon', 'Salmonella phage P22', ' gtrC', 'promoter', 'terminator')\n"
     ]
    }
   ],
   "source": [
    "mycursor.execute('SELECT * FROM Operons')\n",
    "result = mycursor.fetchall()\n",
    "for row in result:\n",
    "    print(row)"
   ]
  },
  {
   "cell_type": "code",
   "execution_count": 42,
   "id": "36bf404c",
   "metadata": {},
   "outputs": [],
   "source": [
    "# organisms for operons\n",
    "select_org_has_ope_query = \"CREATE OR REPLACE VIEW Organims_per_Operon AS SELECT Organism_has_Operon.RefSeq AS RefSeq, Organism.Organism AS Organism, Organism_has_Operon.Operon_id AS Operon_id, Operon.Name AS Operon_Name FROM PhageOperonDB.Organism_has_Operon, Operon, Organism WHERE Organism_has_Operon.RefSeq = Organism.RefSeq and Organism_has_Operon.Operon_id = Operon.id \"\n",
    "mycursor.execute(select_org_has_ope_query)"
   ]
  },
  {
   "cell_type": "code",
   "execution_count": 43,
   "id": "7408e2c4",
   "metadata": {},
   "outputs": [
    {
     "name": "stdout",
     "output_type": "stream",
     "text": [
      "('NC_000929', 'Entereobacteria phage Mu ', 1, 'gem operon')\n",
      "('NC_000929', 'Entereobacteria phage Mu ', 2, 'Mom operon')\n",
      "('NC_000929', 'Entereobacteria phage Mu ', 3, 'I operon')\n",
      "('NC_000929', 'Entereobacteria phage Mu ', 4, 'lys operon')\n",
      "('NC_000929', 'Entereobacteria phage Mu ', 5, 'P operon')\n",
      "('NC_000929', 'Entereobacteria phage Mu ', 6, 'middle operon')\n",
      "('NC_001416', 'Enterobacteria phage lambda', 8, 'phage lambda leftward operon')\n",
      "('NC_001416', 'Enterobacteria phage lambda', 9, 'phage lambda rigthward operon')\n",
      "('NC_001416', 'Enterobacteria phage lambda', 10, 'phage lambda later operon')\n",
      "('NC_001416', 'Enterobacteria phage lambda', 11, 'lambda rexAB')\n",
      "('NC_001604', 'Enterobacteria phage T7', 7, 'T7 early operon')\n",
      "('NC_002371', 'Salmonella phage P22', 12, 'gtrABC operon')\n",
      "('NC_002371', 'Salmonella phage P22', 13, 'PL operon')\n"
     ]
    }
   ],
   "source": [
    "mycursor.execute('SELECT * FROM Organims_per_Operon')\n",
    "result = mycursor.fetchall()\n",
    "for row in result:\n",
    "    print(row)"
   ]
  },
  {
   "cell_type": "code",
   "execution_count": 44,
   "id": "f81136fe",
   "metadata": {},
   "outputs": [],
   "source": [
    "#Number of Operons operon\n",
    "num_ope = \"CREATE OR REPLACE VIEW Number_of_Operons AS SELECT count(Operon.id) FROM Operon\"\n",
    "mycursor.execute(num_ope)"
   ]
  },
  {
   "cell_type": "code",
   "execution_count": 45,
   "id": "f05a1bbe",
   "metadata": {},
   "outputs": [
    {
     "name": "stdout",
     "output_type": "stream",
     "text": [
      "(13,)\n"
     ]
    }
   ],
   "source": [
    "mycursor.execute('SELECT * FROM Number_of_Operons')\n",
    "result = mycursor.fetchall()\n",
    "for row in result:\n",
    "    print(row)"
   ]
  },
  {
   "cell_type": "code",
   "execution_count": 46,
   "id": "53597f5f",
   "metadata": {},
   "outputs": [],
   "source": [
    "#Number of organisms\n",
    "num_org = \"CREATE OR REPLACE VIEW Number_of_Organisms AS SELECT count(Organism.RefSeq) FROM Organism\"\n",
    "mycursor.execute(num_org)"
   ]
  },
  {
   "cell_type": "code",
   "execution_count": 47,
   "id": "b010d235",
   "metadata": {},
   "outputs": [
    {
     "name": "stdout",
     "output_type": "stream",
     "text": [
      "(4,)\n"
     ]
    }
   ],
   "source": [
    "mycursor.execute('SELECT * FROM Number_of_Organisms')\n",
    "result = mycursor.fetchall()\n",
    "for row in result:\n",
    "    print(row)"
   ]
  },
  {
   "cell_type": "code",
   "execution_count": 48,
   "id": "39a00316",
   "metadata": {},
   "outputs": [],
   "source": [
    "#Number of genes\n",
    "num_genes = \"CREATE OR REPLACE VIEW Number_of_Genes AS SELECT count(Gene.id) FROM Gene\"\n",
    "mycursor.execute(num_genes)"
   ]
  },
  {
   "cell_type": "code",
   "execution_count": 49,
   "id": "e8d4815a",
   "metadata": {},
   "outputs": [
    {
     "name": "stdout",
     "output_type": "stream",
     "text": [
      "(103,)\n"
     ]
    }
   ],
   "source": [
    "mycursor.execute('SELECT * FROM Number_of_Genes')\n",
    "result = mycursor.fetchall()\n",
    "for row in result:\n",
    "    print(row)"
   ]
  },
  {
   "cell_type": "code",
   "execution_count": null,
   "id": "6b28ed7c",
   "metadata": {},
   "outputs": [],
   "source": []
  }
 ],
 "metadata": {
  "kernelspec": {
   "display_name": "Python 3 (ipykernel)",
   "language": "python",
   "name": "python3"
  },
  "language_info": {
   "codemirror_mode": {
    "name": "ipython",
    "version": 3
   },
   "file_extension": ".py",
   "mimetype": "text/x-python",
   "name": "python",
   "nbconvert_exporter": "python",
   "pygments_lexer": "ipython3",
   "version": "3.7.9"
  }
 },
 "nbformat": 4,
 "nbformat_minor": 5
}
