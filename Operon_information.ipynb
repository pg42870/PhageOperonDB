{
 "cells": [
  {
   "cell_type": "markdown",
   "id": "d812eda8",
   "metadata": {},
   "source": [
    "# Creation of the INSERT files for PhageOperonDB\n",
    "\n",
    "This notebook was created to access the file with the raw data that was collect to construct the database, and with that data create the insert files."
   ]
  },
  {
   "cell_type": "code",
   "execution_count": 1,
   "id": "d88b5de0",
   "metadata": {},
   "outputs": [],
   "source": [
    "import numpy as np\n",
    "import pandas as pd"
   ]
  },
  {
   "cell_type": "code",
   "execution_count": 2,
   "id": "f3e467a8",
   "metadata": {},
   "outputs": [
    {
     "data": {
      "text/html": [
       "<div>\n",
       "<style scoped>\n",
       "    .dataframe tbody tr th:only-of-type {\n",
       "        vertical-align: middle;\n",
       "    }\n",
       "\n",
       "    .dataframe tbody tr th {\n",
       "        vertical-align: top;\n",
       "    }\n",
       "\n",
       "    .dataframe thead th {\n",
       "        text-align: right;\n",
       "    }\n",
       "</style>\n",
       "<table border=\"1\" class=\"dataframe\">\n",
       "  <thead>\n",
       "    <tr style=\"text-align: right;\">\n",
       "      <th></th>\n",
       "      <th>Organism</th>\n",
       "      <th>Ref Seq</th>\n",
       "      <th>Operon</th>\n",
       "      <th>Genes</th>\n",
       "      <th>Promoter</th>\n",
       "      <th>position</th>\n",
       "      <th>Terminator</th>\n",
       "      <th>Position</th>\n",
       "      <th>Reference</th>\n",
       "      <th>TSS</th>\n",
       "    </tr>\n",
       "  </thead>\n",
       "  <tbody>\n",
       "    <tr>\n",
       "      <th>0</th>\n",
       "      <td>Entereobacteria phage Mu</td>\n",
       "      <td>NC_000929</td>\n",
       "      <td>gem operon</td>\n",
       "      <td>gemA GeneID:2636256; gemB GeneID:2636272</td>\n",
       "      <td>pGEM promoter</td>\n",
       "      <td>(8142..8229)</td>\n",
       "      <td>t9.2 terminator</td>\n",
       "      <td>(9166..9206)</td>\n",
       "      <td>G. Fabozzi; L. Paolozzi; P. Ghelardini (1998)....</td>\n",
       "      <td>8231.0</td>\n",
       "    </tr>\n",
       "    <tr>\n",
       "      <th>1</th>\n",
       "      <td>Entereobacteria phage Mu</td>\n",
       "      <td>NC_000929</td>\n",
       "      <td>Mom operon</td>\n",
       "      <td>Mup54 (gpCom) GeneID:2636254; Mup55 (Mom) Gene...</td>\n",
       "      <td>pMom promoter</td>\n",
       "      <td>(35694..35757)</td>\n",
       "      <td>tMom terminator</td>\n",
       "      <td>(36642..36689)</td>\n",
       "      <td>Stanley Hattman (1999). Unusual transcriptiona...</td>\n",
       "      <td>NaN</td>\n",
       "    </tr>\n",
       "    <tr>\n",
       "      <th>2</th>\n",
       "      <td>Entereobacteria phage Mu</td>\n",
       "      <td>NC_000929</td>\n",
       "      <td>I operon</td>\n",
       "      <td>Mup32 (I) GeneID:2636253; Mup33 (Z) GeneID:263...</td>\n",
       "      <td>pI promoter</td>\n",
       "      <td>(17978..18042)</td>\n",
       "      <td>NaN</td>\n",
       "      <td>NaN</td>\n",
       "      <td>Zha, J; Zhao, Z; Howe, M M (1994). Identificat...</td>\n",
       "      <td>NaN</td>\n",
       "    </tr>\n",
       "    <tr>\n",
       "      <th>3</th>\n",
       "      <td>Entereobacteria phage Mu</td>\n",
       "      <td>NC_000929</td>\n",
       "      <td>lys operon</td>\n",
       "      <td>Mup22 GeneID:2636261; Mup23 GeneID:2636265; Mu...</td>\n",
       "      <td>pLyz promoter</td>\n",
       "      <td>(10404..10467)</td>\n",
       "      <td>tLys(b) terminator</td>\n",
       "      <td>(17907..17962); (17920..17959)</td>\n",
       "      <td>Zha, J; Zhao, Z; Howe, M M (1994). Identificat...</td>\n",
       "      <td>NaN</td>\n",
       "    </tr>\n",
       "    <tr>\n",
       "      <th>4</th>\n",
       "      <td>Entereobacteria phage Mu</td>\n",
       "      <td>NC_000929</td>\n",
       "      <td>P operon</td>\n",
       "      <td>Mup44 (P) GeneID:2636285; Mup45 (gp45) GeneID:...</td>\n",
       "      <td>pP promoter</td>\n",
       "      <td>(27288..27352)</td>\n",
       "      <td>tP(G+) terminator; tP(G-) terminator</td>\n",
       "      <td>(33498..33537); (33498..33537)</td>\n",
       "      <td>Zha, J; Zhao, Z; Howe, M M (1994). Identificat...</td>\n",
       "      <td>NaN</td>\n",
       "    </tr>\n",
       "    <tr>\n",
       "      <th>5</th>\n",
       "      <td>Entereobacteria phage Mu</td>\n",
       "      <td>NC_000929</td>\n",
       "      <td>middle operon</td>\n",
       "      <td>Mup18 GeneID:2636281; Mup19 GeneID:2636295; Mu...</td>\n",
       "      <td>Pm promoter</td>\n",
       "      <td>(9178..9234)</td>\n",
       "      <td>tM terminator</td>\n",
       "      <td>(10370..10416)</td>\n",
       "      <td>Kahmeyer-Gabbe, M; Howe, M M (1996). Regulator...</td>\n",
       "      <td>NaN</td>\n",
       "    </tr>\n",
       "    <tr>\n",
       "      <th>6</th>\n",
       "      <td>Enterobacteria phage T7</td>\n",
       "      <td>NC_001604</td>\n",
       "      <td>T7 early operon</td>\n",
       "      <td>gene0.3 GeneID:1261063; gene0.4 GeneID:1261053...</td>\n",
       "      <td>A1 promoter; A2 promoter; A3 promoter; B promo...</td>\n",
       "      <td>(452..508); (579..636); (704..760); (1468..151...</td>\n",
       "      <td>TE terminator</td>\n",
       "      <td>(7552..7591)</td>\n",
       "      <td>Condon, C. (2014). Reference Module in Biomedi...</td>\n",
       "      <td>NaN</td>\n",
       "    </tr>\n",
       "    <tr>\n",
       "      <th>7</th>\n",
       "      <td>Enterobacteria phage lambda</td>\n",
       "      <td>NC_001416</td>\n",
       "      <td>phage lambda leftward operon</td>\n",
       "      <td>N GeneID:2703540; orf28 GeneID:2703510; ral Ge...</td>\n",
       "      <td>PI promoter; PL1 promoter; PL2 promoter</td>\n",
       "      <td>complement(29062..29114); complement(35572..35...</td>\n",
       "      <td>tI terminator; tL1 terminator; tL2 terminator;...</td>\n",
       "      <td>complement(27533..27588); complement(34556..34...</td>\n",
       "      <td>Condon, C. (2014). Reference Module in Biomedi...</td>\n",
       "      <td>NaN</td>\n",
       "    </tr>\n",
       "    <tr>\n",
       "      <th>8</th>\n",
       "      <td>Enterobacteria phage lambda</td>\n",
       "      <td>NC_001416</td>\n",
       "      <td>phage lambda rigthward operon</td>\n",
       "      <td>cro GeneID:2703467; cII GeneID:2703494; O Gene...</td>\n",
       "      <td>PR promoter</td>\n",
       "      <td>(37978..38033)</td>\n",
       "      <td>tR1 terminator; tR2 terminator</td>\n",
       "      <td>(38294..38335); (40586..40629)</td>\n",
       "      <td>Casjens, Sherwood R.; Hendrix, Roger W. (2015)...</td>\n",
       "      <td>NaN</td>\n",
       "    </tr>\n",
       "    <tr>\n",
       "      <th>9</th>\n",
       "      <td>Enterobacteria phage lambda</td>\n",
       "      <td>NC_001416</td>\n",
       "      <td>phage lambda later operon</td>\n",
       "      <td>orf-64 GeneID:2703478; S GeneID:2703479; S' Ge...</td>\n",
       "      <td>PR' promoter</td>\n",
       "      <td>(44542..44598)</td>\n",
       "      <td>tR' terminator</td>\n",
       "      <td>(44714..44782)</td>\n",
       "      <td>Casjens, Sherwood R.; Hendrix, Roger W. (2015)...</td>\n",
       "      <td>NaN</td>\n",
       "    </tr>\n",
       "    <tr>\n",
       "      <th>10</th>\n",
       "      <td>Enterobacteria phage lambda</td>\n",
       "      <td>NC_001416</td>\n",
       "      <td>lambda rexAB</td>\n",
       "      <td>cI GeneID:3827059; rexa GeneID:3827058; rexb G...</td>\n",
       "      <td>PRM promoter</td>\n",
       "      <td>complement(37930..37985)</td>\n",
       "      <td>NaN</td>\n",
       "      <td>NaN</td>\n",
       "      <td>Douglas Fix (1993). The rex genes of lambda pr...</td>\n",
       "      <td>NaN</td>\n",
       "    </tr>\n",
       "    <tr>\n",
       "      <th>11</th>\n",
       "      <td>Salmonella phage P22</td>\n",
       "      <td>NC_002371</td>\n",
       "      <td>gtrABC operon</td>\n",
       "      <td>gtrA GeneID:1262849; gtrB GeneID:1262848; gtrC...</td>\n",
       "      <td>promoter</td>\n",
       "      <td>complement(21114..21141)</td>\n",
       "      <td>terminator</td>\n",
       "      <td>complement(18214..18245)</td>\n",
       "      <td>Villafane, R., Zayas, M., Gilcrease, E.B. et a...</td>\n",
       "      <td>NaN</td>\n",
       "    </tr>\n",
       "    <tr>\n",
       "      <th>12</th>\n",
       "      <td>Salmonella phage P22</td>\n",
       "      <td>NC_002371</td>\n",
       "      <td>PL operon</td>\n",
       "      <td>24 GeneID:1262841; esc GeneID:2944229; sieB Ge...</td>\n",
       "      <td>Promoter</td>\n",
       "      <td>complement(30892..30920)</td>\n",
       "      <td>NaN</td>\n",
       "      <td>NaN</td>\n",
       "      <td>Semerjian, Arlene V.; Malloy, Diane C....</td>\n",
       "      <td>NaN</td>\n",
       "    </tr>\n",
       "  </tbody>\n",
       "</table>\n",
       "</div>"
      ],
      "text/plain": [
       "                       Organism    Ref Seq                         Operon  \\\n",
       "0     Entereobacteria phage Mu   NC_000929                     gem operon   \n",
       "1     Entereobacteria phage Mu   NC_000929                     Mom operon   \n",
       "2     Entereobacteria phage Mu   NC_000929                       I operon   \n",
       "3     Entereobacteria phage Mu   NC_000929                     lys operon   \n",
       "4     Entereobacteria phage Mu   NC_000929                       P operon   \n",
       "5     Entereobacteria phage Mu   NC_000929                  middle operon   \n",
       "6       Enterobacteria phage T7  NC_001604                T7 early operon   \n",
       "7   Enterobacteria phage lambda  NC_001416   phage lambda leftward operon   \n",
       "8   Enterobacteria phage lambda  NC_001416  phage lambda rigthward operon   \n",
       "9   Enterobacteria phage lambda  NC_001416      phage lambda later operon   \n",
       "10  Enterobacteria phage lambda  NC_001416                   lambda rexAB   \n",
       "11         Salmonella phage P22  NC_002371                  gtrABC operon   \n",
       "12         Salmonella phage P22  NC_002371                      PL operon   \n",
       "\n",
       "                                                Genes  \\\n",
       "0            gemA GeneID:2636256; gemB GeneID:2636272   \n",
       "1   Mup54 (gpCom) GeneID:2636254; Mup55 (Mom) Gene...   \n",
       "2   Mup32 (I) GeneID:2636253; Mup33 (Z) GeneID:263...   \n",
       "3   Mup22 GeneID:2636261; Mup23 GeneID:2636265; Mu...   \n",
       "4   Mup44 (P) GeneID:2636285; Mup45 (gp45) GeneID:...   \n",
       "5   Mup18 GeneID:2636281; Mup19 GeneID:2636295; Mu...   \n",
       "6   gene0.3 GeneID:1261063; gene0.4 GeneID:1261053...   \n",
       "7   N GeneID:2703540; orf28 GeneID:2703510; ral Ge...   \n",
       "8   cro GeneID:2703467; cII GeneID:2703494; O Gene...   \n",
       "9   orf-64 GeneID:2703478; S GeneID:2703479; S' Ge...   \n",
       "10  cI GeneID:3827059; rexa GeneID:3827058; rexb G...   \n",
       "11  gtrA GeneID:1262849; gtrB GeneID:1262848; gtrC...   \n",
       "12  24 GeneID:1262841; esc GeneID:2944229; sieB Ge...   \n",
       "\n",
       "                                             Promoter  \\\n",
       "0                                       pGEM promoter   \n",
       "1                                       pMom promoter   \n",
       "2                                         pI promoter   \n",
       "3                                       pLyz promoter   \n",
       "4                                         pP promoter   \n",
       "5                                         Pm promoter   \n",
       "6   A1 promoter; A2 promoter; A3 promoter; B promo...   \n",
       "7             PI promoter; PL1 promoter; PL2 promoter   \n",
       "8                                         PR promoter   \n",
       "9                                        PR' promoter   \n",
       "10                                       PRM promoter   \n",
       "11                                           promoter   \n",
       "12                                           Promoter   \n",
       "\n",
       "                                             position  \\\n",
       "0                                        (8142..8229)   \n",
       "1                                      (35694..35757)   \n",
       "2                                      (17978..18042)   \n",
       "3                                      (10404..10467)   \n",
       "4                                      (27288..27352)   \n",
       "5                                        (9178..9234)   \n",
       "6   (452..508); (579..636); (704..760); (1468..151...   \n",
       "7   complement(29062..29114); complement(35572..35...   \n",
       "8                                      (37978..38033)   \n",
       "9                                      (44542..44598)   \n",
       "10                           complement(37930..37985)   \n",
       "11                           complement(21114..21141)   \n",
       "12                           complement(30892..30920)   \n",
       "\n",
       "                                           Terminator  \\\n",
       "0                                     t9.2 terminator   \n",
       "1                                     tMom terminator   \n",
       "2                                                 NaN   \n",
       "3                                  tLys(b) terminator   \n",
       "4                tP(G+) terminator; tP(G-) terminator   \n",
       "5                                       tM terminator   \n",
       "6                                       TE terminator   \n",
       "7   tI terminator; tL1 terminator; tL2 terminator;...   \n",
       "8                      tR1 terminator; tR2 terminator   \n",
       "9                                      tR' terminator   \n",
       "10                                                NaN   \n",
       "11                                         terminator   \n",
       "12                                                NaN   \n",
       "\n",
       "                                             Position  \\\n",
       "0                                        (9166..9206)   \n",
       "1                                      (36642..36689)   \n",
       "2                                                 NaN   \n",
       "3                      (17907..17962); (17920..17959)   \n",
       "4                      (33498..33537); (33498..33537)   \n",
       "5                                      (10370..10416)   \n",
       "6                                        (7552..7591)   \n",
       "7   complement(27533..27588); complement(34556..34...   \n",
       "8                      (38294..38335); (40586..40629)   \n",
       "9                                      (44714..44782)   \n",
       "10                                                NaN   \n",
       "11                           complement(18214..18245)   \n",
       "12                                                NaN   \n",
       "\n",
       "                                            Reference     TSS  \n",
       "0   G. Fabozzi; L. Paolozzi; P. Ghelardini (1998)....  8231.0  \n",
       "1   Stanley Hattman (1999). Unusual transcriptiona...     NaN  \n",
       "2   Zha, J; Zhao, Z; Howe, M M (1994). Identificat...     NaN  \n",
       "3   Zha, J; Zhao, Z; Howe, M M (1994). Identificat...     NaN  \n",
       "4   Zha, J; Zhao, Z; Howe, M M (1994). Identificat...     NaN  \n",
       "5   Kahmeyer-Gabbe, M; Howe, M M (1996). Regulator...     NaN  \n",
       "6   Condon, C. (2014). Reference Module in Biomedi...     NaN  \n",
       "7   Condon, C. (2014). Reference Module in Biomedi...     NaN  \n",
       "8   Casjens, Sherwood R.; Hendrix, Roger W. (2015)...     NaN  \n",
       "9   Casjens, Sherwood R.; Hendrix, Roger W. (2015)...     NaN  \n",
       "10  Douglas Fix (1993). The rex genes of lambda pr...     NaN  \n",
       "11  Villafane, R., Zayas, M., Gilcrease, E.B. et a...     NaN  \n",
       "12          Semerjian, Arlene V.; Malloy, Diane C....     NaN  "
      ]
     },
     "execution_count": 2,
     "metadata": {},
     "output_type": "execute_result"
    }
   ],
   "source": [
    "phages_table = pd.read_excel('phages.xlsx')\n",
    "phages_table"
   ]
  },
  {
   "cell_type": "code",
   "execution_count": 3,
   "id": "56487b04",
   "metadata": {},
   "outputs": [
    {
     "data": {
      "text/plain": [
       "Organism       object\n",
       "Ref Seq        object\n",
       "Operon         object\n",
       "Genes          object\n",
       "Promoter       object\n",
       "position       object\n",
       "Terminator     object\n",
       "Position       object\n",
       "Reference      object\n",
       "TSS           float64\n",
       "dtype: object"
      ]
     },
     "execution_count": 3,
     "metadata": {},
     "output_type": "execute_result"
    }
   ],
   "source": [
    "phages_table.dtypes"
   ]
  },
  {
   "cell_type": "markdown",
   "id": "7d939663",
   "metadata": {},
   "source": [
    "# Data from the Reference Table"
   ]
  },
  {
   "cell_type": "code",
   "execution_count": 16,
   "id": "ce2059a0",
   "metadata": {},
   "outputs": [
    {
     "data": {
      "text/plain": [
       "'G. Fabozzi; L. Paolozzi; P. Ghelardini (1998).\\xa0Regulation of the Bacteriophage MugemOperon. , 241(1), 73–79.\\xa0doi:10.1006/viro.1997.8948\\xa0'"
      ]
     },
     "execution_count": 16,
     "metadata": {},
     "output_type": "execute_result"
    }
   ],
   "source": [
    "citations = phages_table['Reference']\n",
    "citations[0]"
   ]
  },
  {
   "cell_type": "code",
   "execution_count": 17,
   "id": "f8585e5f",
   "metadata": {},
   "outputs": [],
   "source": [
    "citations = pd.Series(citations).drop_duplicates().tolist()"
   ]
  },
  {
   "cell_type": "code",
   "execution_count": 18,
   "id": "9abb4c7a",
   "metadata": {},
   "outputs": [
    {
     "data": {
      "text/plain": [
       "['G. Fabozzi; L. Paolozzi; P. Ghelardini (1998).\\xa0Regulation of the Bacteriophage MugemOperon. , 241(1), 73–79.\\xa0doi:10.1006/viro.1997.8948\\xa0',\n",
       " 'Stanley Hattman (1999).\\xa0Unusual transcriptional and translational regulation of the bacteriophage Mu mom operon. , 84(3), 367–388.\\xa0doi:10.1016/s0163-7258(99)00042-x\\xa0',\n",
       " 'Zha, J; Zhao, Z; Howe, M M (1994).\\xa0Identification and characterization of the terminators of the lys and P transcripts of bacteriophage Mu.. Journal of Bacteriology, 176(4), 1111–1120.\\xa0doi:10.1128/jb.176.4.1111-1120.1994\\xa0',\n",
       " 'Kahmeyer-Gabbe, M; Howe, M M (1996). Regulatory factors acting at the bacteriophage Mu middle promoter.. Journal of Bacteriology, 178(6), 1585–1592. doi:10.1128/jb.178.6.1585-1592.1996 ; Characterization of the C operon transcript of bacteriophage Mu.. Journal of Bacteriology, 172(1), 361–371. doi:10.1128/jb.172.1.361-371.1990 ',\n",
       " 'Condon, C. (2014).\\xa0Reference Module in Biomedical Sciences || RNA Processing☆. , (), –.\\xa0doi:10.1016/B978-0-12-801238-3.02455-7\\xa0',\n",
       " 'Casjens, Sherwood R.; Hendrix, Roger W. (2015).\\xa0Bacteriophage lambda: Early pioneer and still relevant. Virology, 479-480(), 310–330.\\xa0doi:10.1016/j.virol.2015.02.010\\xa0',\n",
       " 'Douglas Fix (1993).\\xa0The rex genes of lambda prophage modify ultraviolet light and N-methyl-N-nitrosourea-induced responses to DNA damage in Escherichia coli. , 303(4), 143–150.\\xa0doi:10.1016/0165-7992(93)90015-n\\xa0',\n",
       " 'Villafane, R., Zayas, M., Gilcrease, E.B.\\xa0et al.\\xa0Genomic analysis of bacteriophage ε34\\xa0of\\xa0Salmonella entericaserovar Anatum (15+).\\xa0BMC Microbiol\\xa08, 227 (2008). https://doi.org/10.1186/1471-2180-8-227',\n",
       " '        Semerjian, Arlene V.; Malloy, Diane C.; Poteete, Anthony R. (1989). Genetic structure of the bacteriophage P22 PL operon. , 207(1), 1–13.         doi:10.1016/0022-2836(89)90437-3\\xa0    ']"
      ]
     },
     "execution_count": 18,
     "metadata": {},
     "output_type": "execute_result"
    }
   ],
   "source": [
    "citations"
   ]
  },
  {
   "cell_type": "code",
   "execution_count": 74,
   "id": "cb739058",
   "metadata": {},
   "outputs": [
    {
     "data": {
      "text/plain": [
       "[('G. Fabozzi; L. Paolozzi; P. Ghelardini (1998).Regulation of the Bacteriophage MugemOperon. , 241(1), 73–79.doi:10.1006/viro.1997.8948',),\n",
       " ('Stanley Hattman (1999).Unusual transcriptional and translational regulation of the bacteriophage Mu mom operon. , 84(3), 367–388.doi:10.1016/s0163-7258(99)00042-x',),\n",
       " ('Zha, J; Zhao, Z; Howe, M M (1994).Identification and characterization of the terminators of the lys and P transcripts of bacteriophage Mu.. Journal of Bacteriology, 176(4), 1111–1120.doi:10.1128/jb.176.4.1111-1120.1994',),\n",
       " ('Kahmeyer-Gabbe, M; Howe, M M (1996). Regulatory factors acting at the bacteriophage Mu middle promoter.. Journal of Bacteriology, 178(6), 1585–1592. doi:10.1128/jb.178.6.1585-1592.1996 ; Characterization of the C operon transcript of bacteriophage Mu.. Journal of Bacteriology, 172(1), 361–371. doi:10.1128/jb.172.1.361-371.1990 ',),\n",
       " ('Condon, C. (2014).Reference Module in Biomedical Sciences || RNA Processing☆. , (), –.doi:10.1016/B978-0-12-801238-3.02455-7',),\n",
       " ('Casjens, Sherwood R.; Hendrix, Roger W. (2015).Bacteriophage lambda: Early pioneer and still relevant. Virology, 479-480(), 310–330.doi:10.1016/j.virol.2015.02.010',),\n",
       " ('Douglas Fix (1993).The rex genes of lambda prophage modify ultraviolet light and N-methyl-N-nitrosourea-induced responses to DNA damage in Escherichia coli. , 303(4), 143–150.doi:10.1016/0165-7992(93)90015-n',),\n",
       " ('Villafane, R., Zayas, M., Gilcrease, E.B.et al.Genomic analysis of bacteriophage ε34ofSalmonella entericaserovar Anatum (15+).BMC Microbiol8, 227 (2008). https://doi.org/10.1186/1471-2180-8-227',),\n",
       " ('        Semerjian, Arlene V.; Malloy, Diane C.; Poteete, Anthony R. (1989). Genetic structure of the bacteriophage P22 PL operon. , 207(1), 1–13.         doi:10.1016/0022-2836(89)90437-3    ',)]"
      ]
     },
     "execution_count": 74,
     "metadata": {},
     "output_type": "execute_result"
    }
   ],
   "source": [
    "insert_citations = []\n",
    "for c in citations:\n",
    "    c = c.replace('\\xa0','')\n",
    "    insert_citations.append(tuple([c]))\n",
    "insert_citations"
   ]
  },
  {
   "cell_type": "markdown",
   "id": "8a033ca7",
   "metadata": {},
   "source": [
    "Writing the file insert_citations.py, with 2 variables: insert_citations (a INSERT command) and citation_records (list of tuples with the values to insert into the database)"
   ]
  },
  {
   "cell_type": "code",
   "execution_count": 75,
   "id": "585ce52e",
   "metadata": {},
   "outputs": [],
   "source": [
    "f = open('insert_citations.py', 'a',  encoding=\"utf-8\")\n",
    "f.write(\"insert_citations='INSERT INTO PhageOperonDB.References (Citation) VALUES (%s)'\\n\")\n",
    "f.write(\"citation_records= [\")\n",
    "for t in insert_citations:\n",
    "    t = str(t)\n",
    "    f.write(t)\n",
    "    f.write(',')\n",
    "f.write(\"]\")\n",
    "f.close()"
   ]
  },
  {
   "cell_type": "markdown",
   "id": "f255885b",
   "metadata": {},
   "source": [
    "# Data for the Operon table"
   ]
  },
  {
   "cell_type": "code",
   "execution_count": 4,
   "id": "9ebdf18e",
   "metadata": {
    "scrolled": true
   },
   "outputs": [
    {
     "data": {
      "text/plain": [
       "['gem operon',\n",
       " 'Mom operon',\n",
       " 'I operon',\n",
       " 'lys operon',\n",
       " 'P operon',\n",
       " 'middle operon',\n",
       " 'T7 early operon',\n",
       " 'phage lambda leftward operon',\n",
       " 'phage lambda rigthward operon',\n",
       " 'phage lambda later operon',\n",
       " 'lambda rexAB',\n",
       " 'gtrABC operon',\n",
       " 'PL operon']"
      ]
     },
     "execution_count": 4,
     "metadata": {},
     "output_type": "execute_result"
    }
   ],
   "source": [
    "operon = phages_table.loc[:, 'Operon'].tolist()\n",
    "operon"
   ]
  },
  {
   "cell_type": "markdown",
   "id": "5a581a2e",
   "metadata": {},
   "source": [
    "We have the list of operon and now we need the list of the references_ids in the correct order."
   ]
  },
  {
   "cell_type": "code",
   "execution_count": 5,
   "id": "d2295cc7",
   "metadata": {},
   "outputs": [],
   "source": [
    "id_References_for_Operon = [1,2,3,3,3,4,5,5,6,6,7,8,9]"
   ]
  },
  {
   "cell_type": "markdown",
   "id": "b716a92e",
   "metadata": {},
   "source": [
    "Writing the file insert_operons.py, with 2 variables: insert_operons (a INSERT command) and operon_records (list of tuples with the values to insert into the database)"
   ]
  },
  {
   "cell_type": "code",
   "execution_count": 10,
   "id": "649ade95",
   "metadata": {},
   "outputs": [],
   "source": [
    "f = open('insert_operons.py', 'a',  encoding=\"utf-8\")\n",
    "f.write(\"insert_operons='INSERT INTO PhageOperonDB.Operon (Name, idReferences) VALUES (%s, %s)'\\n\")\n",
    "f.write(\"operon_records= [\")\n",
    "for o in range(len(operon)):\n",
    "    f.write(\"('\" + str(operon[o]) + \"','\" + str(id_References_for_Operon[o]) + \"')\")\n",
    "    f.write(',')\n",
    "f.write(\"]\")\n",
    "f.close()"
   ]
  },
  {
   "cell_type": "markdown",
   "id": "994b7b61",
   "metadata": {},
   "source": [
    "# Data for the Organism Table"
   ]
  },
  {
   "cell_type": "code",
   "execution_count": 56,
   "id": "dfb5d8e7",
   "metadata": {},
   "outputs": [
    {
     "data": {
      "text/html": [
       "<div>\n",
       "<style scoped>\n",
       "    .dataframe tbody tr th:only-of-type {\n",
       "        vertical-align: middle;\n",
       "    }\n",
       "\n",
       "    .dataframe tbody tr th {\n",
       "        vertical-align: top;\n",
       "    }\n",
       "\n",
       "    .dataframe thead th {\n",
       "        text-align: right;\n",
       "    }\n",
       "</style>\n",
       "<table border=\"1\" class=\"dataframe\">\n",
       "  <thead>\n",
       "    <tr style=\"text-align: right;\">\n",
       "      <th></th>\n",
       "      <th>Organism</th>\n",
       "      <th>Ref Seq</th>\n",
       "    </tr>\n",
       "  </thead>\n",
       "  <tbody>\n",
       "    <tr>\n",
       "      <th>0</th>\n",
       "      <td>Entereobacteria phage Mu</td>\n",
       "      <td>NC_000929</td>\n",
       "    </tr>\n",
       "    <tr>\n",
       "      <th>1</th>\n",
       "      <td>Entereobacteria phage Mu</td>\n",
       "      <td>NC_000929</td>\n",
       "    </tr>\n",
       "    <tr>\n",
       "      <th>2</th>\n",
       "      <td>Entereobacteria phage Mu</td>\n",
       "      <td>NC_000929</td>\n",
       "    </tr>\n",
       "    <tr>\n",
       "      <th>3</th>\n",
       "      <td>Entereobacteria phage Mu</td>\n",
       "      <td>NC_000929</td>\n",
       "    </tr>\n",
       "    <tr>\n",
       "      <th>4</th>\n",
       "      <td>Entereobacteria phage Mu</td>\n",
       "      <td>NC_000929</td>\n",
       "    </tr>\n",
       "    <tr>\n",
       "      <th>5</th>\n",
       "      <td>Entereobacteria phage Mu</td>\n",
       "      <td>NC_000929</td>\n",
       "    </tr>\n",
       "    <tr>\n",
       "      <th>6</th>\n",
       "      <td>Enterobacteria phage T7</td>\n",
       "      <td>NC_001604</td>\n",
       "    </tr>\n",
       "    <tr>\n",
       "      <th>7</th>\n",
       "      <td>Enterobacteria phage lambda</td>\n",
       "      <td>NC_001416</td>\n",
       "    </tr>\n",
       "    <tr>\n",
       "      <th>8</th>\n",
       "      <td>Enterobacteria phage lambda</td>\n",
       "      <td>NC_001416</td>\n",
       "    </tr>\n",
       "    <tr>\n",
       "      <th>9</th>\n",
       "      <td>Enterobacteria phage lambda</td>\n",
       "      <td>NC_001416</td>\n",
       "    </tr>\n",
       "    <tr>\n",
       "      <th>10</th>\n",
       "      <td>Enterobacteria phage lambda</td>\n",
       "      <td>NC_001416</td>\n",
       "    </tr>\n",
       "    <tr>\n",
       "      <th>11</th>\n",
       "      <td>Salmonella phage P22</td>\n",
       "      <td>NC_002371</td>\n",
       "    </tr>\n",
       "    <tr>\n",
       "      <th>12</th>\n",
       "      <td>Salmonella phage P22</td>\n",
       "      <td>NC_002371</td>\n",
       "    </tr>\n",
       "  </tbody>\n",
       "</table>\n",
       "</div>"
      ],
      "text/plain": [
       "                       Organism    Ref Seq\n",
       "0     Entereobacteria phage Mu   NC_000929\n",
       "1     Entereobacteria phage Mu   NC_000929\n",
       "2     Entereobacteria phage Mu   NC_000929\n",
       "3     Entereobacteria phage Mu   NC_000929\n",
       "4     Entereobacteria phage Mu   NC_000929\n",
       "5     Entereobacteria phage Mu   NC_000929\n",
       "6       Enterobacteria phage T7  NC_001604\n",
       "7   Enterobacteria phage lambda  NC_001416\n",
       "8   Enterobacteria phage lambda  NC_001416\n",
       "9   Enterobacteria phage lambda  NC_001416\n",
       "10  Enterobacteria phage lambda  NC_001416\n",
       "11         Salmonella phage P22  NC_002371\n",
       "12         Salmonella phage P22  NC_002371"
      ]
     },
     "execution_count": 56,
     "metadata": {},
     "output_type": "execute_result"
    }
   ],
   "source": [
    "organisms = phages_table.loc[:, 'Organism':'Ref Seq']\n",
    "organisms"
   ]
  },
  {
   "cell_type": "markdown",
   "id": "6905617f",
   "metadata": {},
   "source": [
    "For the Organism Table we only need the unique Organisms, so we have to remove the duplicates"
   ]
  },
  {
   "cell_type": "code",
   "execution_count": 58,
   "id": "1f75941d",
   "metadata": {},
   "outputs": [
    {
     "data": {
      "text/html": [
       "<div>\n",
       "<style scoped>\n",
       "    .dataframe tbody tr th:only-of-type {\n",
       "        vertical-align: middle;\n",
       "    }\n",
       "\n",
       "    .dataframe tbody tr th {\n",
       "        vertical-align: top;\n",
       "    }\n",
       "\n",
       "    .dataframe thead th {\n",
       "        text-align: right;\n",
       "    }\n",
       "</style>\n",
       "<table border=\"1\" class=\"dataframe\">\n",
       "  <thead>\n",
       "    <tr style=\"text-align: right;\">\n",
       "      <th></th>\n",
       "      <th>Organism</th>\n",
       "      <th>Ref Seq</th>\n",
       "    </tr>\n",
       "  </thead>\n",
       "  <tbody>\n",
       "    <tr>\n",
       "      <th>0</th>\n",
       "      <td>Entereobacteria phage Mu</td>\n",
       "      <td>NC_000929</td>\n",
       "    </tr>\n",
       "    <tr>\n",
       "      <th>1</th>\n",
       "      <td>Enterobacteria phage T7</td>\n",
       "      <td>NC_001604</td>\n",
       "    </tr>\n",
       "    <tr>\n",
       "      <th>2</th>\n",
       "      <td>Enterobacteria phage lambda</td>\n",
       "      <td>NC_001416</td>\n",
       "    </tr>\n",
       "    <tr>\n",
       "      <th>3</th>\n",
       "      <td>Salmonella phage P22</td>\n",
       "      <td>NC_002371</td>\n",
       "    </tr>\n",
       "  </tbody>\n",
       "</table>\n",
       "</div>"
      ],
      "text/plain": [
       "                      Organism    Ref Seq\n",
       "0    Entereobacteria phage Mu   NC_000929\n",
       "1      Enterobacteria phage T7  NC_001604\n",
       "2  Enterobacteria phage lambda  NC_001416\n",
       "3         Salmonella phage P22  NC_002371"
      ]
     },
     "execution_count": 58,
     "metadata": {},
     "output_type": "execute_result"
    }
   ],
   "source": [
    "organisms = organisms.drop_duplicates(ignore_index = True)\n",
    "organisms"
   ]
  },
  {
   "cell_type": "code",
   "execution_count": 129,
   "id": "8b91cd29",
   "metadata": {},
   "outputs": [
    {
     "data": {
      "text/plain": [
       "[('Entereobacteria phage Mu ', 'NC_000929'),\n",
       " ('Enterobacteria phage T7', 'NC_001604'),\n",
       " ('Enterobacteria phage lambda', 'NC_001416'),\n",
       " ('Salmonella phage P22', 'NC_002371')]"
      ]
     },
     "execution_count": 129,
     "metadata": {},
     "output_type": "execute_result"
    }
   ],
   "source": [
    "insert_organism = []\n",
    "    \n",
    "for o in range(len(organisms['Organism'])):\n",
    "    row_list = organisms.loc[o, :].values.flatten().tolist()\n",
    "    insert_organism.append(tuple(row_list))\n",
    "insert_organism"
   ]
  },
  {
   "cell_type": "markdown",
   "id": "4e1c2d48",
   "metadata": {},
   "source": [
    "Writing the file insert_organisms.py, with 2 variables: insert_organisms (a INSERT command) and organism_records (list of tuples with the values to insert into the database)"
   ]
  },
  {
   "cell_type": "code",
   "execution_count": 138,
   "id": "eb10ef22",
   "metadata": {},
   "outputs": [],
   "source": [
    "f = open('insert_organisms.py', 'a',  encoding=\"utf-8\")\n",
    "f.write(\"insert_organisms='INSERT INTO PhageOperonDB.Organism (RefSeq, Organism) VALUES (%s, %s)'\\n\")\n",
    "f.write(\"organism_records= [\")\n",
    "for t in insert_organism:\n",
    "    f.write(\"('\" + t[1] + \"','\" + str(t[0]) + \"')\")\n",
    "    f.write(',')\n",
    "f.write(\"]\")\n",
    "f.close()"
   ]
  },
  {
   "cell_type": "markdown",
   "id": "9e2e3af5",
   "metadata": {},
   "source": [
    "# Data for the Gene table"
   ]
  },
  {
   "cell_type": "code",
   "execution_count": 13,
   "id": "51bdc4b3",
   "metadata": {},
   "outputs": [
    {
     "data": {
      "text/plain": [
       "0              gemA GeneID:2636256; gemB GeneID:2636272\n",
       "1     Mup54 (gpCom) GeneID:2636254; Mup55 (Mom) Gene...\n",
       "2     Mup32 (I) GeneID:2636253; Mup33 (Z) GeneID:263...\n",
       "3     Mup22 GeneID:2636261; Mup23 GeneID:2636265; Mu...\n",
       "4     Mup44 (P) GeneID:2636285; Mup45 (gp45) GeneID:...\n",
       "5     Mup18 GeneID:2636281; Mup19 GeneID:2636295; Mu...\n",
       "6     gene0.3 GeneID:1261063; gene0.4 GeneID:1261053...\n",
       "7     N GeneID:2703540; orf28 GeneID:2703510; ral Ge...\n",
       "8     cro GeneID:2703467; cII GeneID:2703494; O Gene...\n",
       "9     orf-64 GeneID:2703478; S GeneID:2703479; S' Ge...\n",
       "10    cI GeneID:3827059; rexa GeneID:3827058; rexb G...\n",
       "11    gtrA GeneID:1262849; gtrB GeneID:1262848; gtrC...\n",
       "12    24 GeneID:1262841; esc GeneID:2944229; sieB Ge...\n",
       "Name: Genes, dtype: object"
      ]
     },
     "execution_count": 13,
     "metadata": {},
     "output_type": "execute_result"
    }
   ],
   "source": [
    "genes = phages_table.loc[:, 'Genes']\n",
    "genes"
   ]
  },
  {
   "cell_type": "markdown",
   "id": "09e27e56",
   "metadata": {},
   "source": [
    "Here we have all the genes for one operon in a single line, so we have to separate them, in order to have a tuple with the Name of the gens and the GeneID."
   ]
  },
  {
   "cell_type": "code",
   "execution_count": 14,
   "id": "4e982b7b",
   "metadata": {
    "scrolled": true
   },
   "outputs": [
    {
     "data": {
      "text/plain": [
       "[('gemA', '2636256'),\n",
       " (' gemB', '2636272'),\n",
       " ('Mup54 (gpCom)', '2636254'),\n",
       " (' Mup55 (Mom)', '2636302'),\n",
       " ('Mup32 (I)', '2636253'),\n",
       " (' Mup33 (Z)', '2636276'),\n",
       " (' Mup34 (T)', '2636267'),\n",
       " (' Mup35 (gp35)', '2636251'),\n",
       " (' Mup36 (gp36)', '2636296'),\n",
       " (' Mup37 (gp37)', '2636286'),\n",
       " (' Mup38 (gp38)', '2636273'),\n",
       " (' Mup39 (L)', '2636269'),\n",
       " (' Mup40 (M)', '2636260'),\n",
       " (' Mup41', '2636287'),\n",
       " (' Mup42 (gp42)', '2636275'),\n",
       " (' Mup43 (N)', ' 2636283'),\n",
       " ('Mup22', '2636261'),\n",
       " (' Mup23', '2636265'),\n",
       " (' Mup24', '2636252'),\n",
       " (' Mup25', '2636263'),\n",
       " (' Mup26', '2636255'),\n",
       " (' Mup27', '2636271'),\n",
       " (' Mup28', '2636303'),\n",
       " (' Mup29', '2636304'),\n",
       " (' Mup30', '2636300'),\n",
       " (' Mup31', '2636282'),\n",
       " ('Mup44 (P)', '2636285'),\n",
       " (' Mup45 (gp45)', '2636280'),\n",
       " (' Mup46 (gp46)', '2636291'),\n",
       " (' Mup47 (gp47)', '2636250'),\n",
       " (' Mup48 (gp48)', '2636277'),\n",
       " (' Mup49 (S)', '2636293'),\n",
       " (' Mup50 (U)', '2636270'),\n",
       " ('Mup18', '2636281'),\n",
       " (' Mup19', '2636295'),\n",
       " (' Mup20', '2636298'),\n",
       " (' Mup21(C gene)', '2636301'),\n",
       " ('gene0.3', '1261063'),\n",
       " (' gene0.4', '1261053'),\n",
       " (' gene0.7', '1261070'),\n",
       " (' gene0.5', '1261051'),\n",
       " (' gene0.6B ', '1261061'),\n",
       " (' gene0.6A', '1261071'),\n",
       " (' gene1', '1261050'),\n",
       " (' gene1.2', '1261049'),\n",
       " (' gene1.1', '1261072'),\n",
       " (' gene1.3', '1261055'),\n",
       " ('N', '2703540'),\n",
       " (' orf28', '2703510'),\n",
       " (' ral', '2703473'),\n",
       " (' ea10', '2703541'),\n",
       " (' cIII', '3827056'),\n",
       " (' kil', '3827057'),\n",
       " (' gam', '2703509'),\n",
       " (' bet', '3827055'),\n",
       " (' exo', '2703522'),\n",
       " (' orf60a', '2703508'),\n",
       " (' orf63', '2703507'),\n",
       " (' orf61', '2703506'),\n",
       " (' ea22', '3827054'),\n",
       " (' ea8,5', '2703505'),\n",
       " ('locus35', '2703530'),\n",
       " ('xis', '2703504'),\n",
       " (' int', '2703470'),\n",
       " ('cro', '2703467'),\n",
       " (' cII', '2703494'),\n",
       " (' O', '3827060'),\n",
       " (' P', '2703495'),\n",
       " (' ren', '2703496'),\n",
       " (' NinB', '2703497'),\n",
       " (' NinC', '2703498'),\n",
       " (' NinD', '2703499'),\n",
       " (' NinE', '2703500'),\n",
       " (' NinF', '2703501'),\n",
       " (' NinG', '2703474'),\n",
       " (' NinH', '2703475'),\n",
       " (' NinI', '2703476'),\n",
       " (' Q', '2703477'),\n",
       " ('orf-64', '2703478'),\n",
       " (' S', '2703479'),\n",
       " (\" S'\", '5740919'),\n",
       " (' R', '2703480'),\n",
       " (' Rz', '2703481'),\n",
       " (' Rz1', '5739319'),\n",
       " ('cI', '3827059'),\n",
       " (' rexa', '3827058'),\n",
       " (' rexb', '2703493'),\n",
       " ('gtrA', '1262849'),\n",
       " (' gtrB', '1262848'),\n",
       " (' gtrC', '2944240'),\n",
       " ('24', '1262841'),\n",
       " (' esc', '2944229'),\n",
       " (' sieB', '1262810'),\n",
       " (' ral', '1262811'),\n",
       " (' orf78', '1262843'),\n",
       " (' orf87', '1262791'),\n",
       " (' 17', '1262789'),\n",
       " (' c3', '1262787'),\n",
       " (' kil', '1262785'),\n",
       " (' arf', '1262850'),\n",
       " (' erf', '1262800'),\n",
       " (' abc1', '1262802'),\n",
       " (' abc2', '1262804')]"
      ]
     },
     "execution_count": 14,
     "metadata": {},
     "output_type": "execute_result"
    }
   ],
   "source": [
    "list_of_genes = []\n",
    "for g in genes:\n",
    "    #print(g)\n",
    "    g = g.split(';')\n",
    "    for i in range(len(g)):\n",
    "        list_of_genes.append(tuple(g[i].split(' GeneID:')))\n",
    "    #print(g)\n",
    "list_of_genes"
   ]
  },
  {
   "cell_type": "markdown",
   "id": "f583760a",
   "metadata": {},
   "source": [
    "Now to associate with the operon we have to create a list with the operons ids"
   ]
  },
  {
   "cell_type": "code",
   "execution_count": 53,
   "id": "bb365e34",
   "metadata": {},
   "outputs": [],
   "source": [
    "list_idoperon_for_gene = [1,1,2,2,3,3,3,3,3,3,3,3,3,3,3,3,4,4,4,4,4,4,4,4,4,4,5,5,5,5,5,5,5,6,6,6,6,7,7,7,7,7,7,7,7,7,7,8,8,8,8,8,8,8,8,8,8,8,8,8,8,8,8,8,9,9,9,9,9,9,9,9,9,9,9,9,9,9,10,10,10,10,10,10,11,11,11,12,12,12,13,13,13,13,13,13,13,13,13,13,13,13,13]"
   ]
  },
  {
   "cell_type": "markdown",
   "id": "46bb769f",
   "metadata": {},
   "source": [
    "Writing the file insert_genes.py, with 2 variables: insert_genes (a INSERT command) and genes_records (list of tuples with the values to insert into the database)"
   ]
  },
  {
   "cell_type": "code",
   "execution_count": 54,
   "id": "aa975aec",
   "metadata": {},
   "outputs": [],
   "source": [
    "f = open('insert_genes.py', 'a',  encoding=\"utf-8\")\n",
    "f.write(\"insert_genes='INSERT INTO PhageOperonDB.Gene (id, Name, Operon_id) VALUES (%s, %s, %s)'\\n\")\n",
    "f.write(\"genes_records= [\")\n",
    "i = 0\n",
    "for t in list_of_genes:\n",
    "    #print(t[1])\n",
    "    #t = str(t)\n",
    "    f.write('(\"' + t[1] + '\",\"' + str(t[0]) + '\",' + str(list_idoperon_for_gene[i])  + ')')\n",
    "    f.write(',')\n",
    "    i += 1\n",
    "f.write(\"]\")\n",
    "f.close()"
   ]
  },
  {
   "cell_type": "markdown",
   "id": "d15a4566",
   "metadata": {},
   "source": [
    "# Data for the Promoter table"
   ]
  },
  {
   "cell_type": "code",
   "execution_count": 20,
   "id": "a1f80075",
   "metadata": {},
   "outputs": [
    {
     "data": {
      "text/html": [
       "<div>\n",
       "<style scoped>\n",
       "    .dataframe tbody tr th:only-of-type {\n",
       "        vertical-align: middle;\n",
       "    }\n",
       "\n",
       "    .dataframe tbody tr th {\n",
       "        vertical-align: top;\n",
       "    }\n",
       "\n",
       "    .dataframe thead th {\n",
       "        text-align: right;\n",
       "    }\n",
       "</style>\n",
       "<table border=\"1\" class=\"dataframe\">\n",
       "  <thead>\n",
       "    <tr style=\"text-align: right;\">\n",
       "      <th></th>\n",
       "      <th>Promoter</th>\n",
       "      <th>position</th>\n",
       "    </tr>\n",
       "  </thead>\n",
       "  <tbody>\n",
       "    <tr>\n",
       "      <th>0</th>\n",
       "      <td>pGEM promoter</td>\n",
       "      <td>(8142..8229)</td>\n",
       "    </tr>\n",
       "    <tr>\n",
       "      <th>1</th>\n",
       "      <td>pMom promoter</td>\n",
       "      <td>(35694..35757)</td>\n",
       "    </tr>\n",
       "    <tr>\n",
       "      <th>2</th>\n",
       "      <td>pI promoter</td>\n",
       "      <td>(17978..18042)</td>\n",
       "    </tr>\n",
       "    <tr>\n",
       "      <th>3</th>\n",
       "      <td>pLyz promoter</td>\n",
       "      <td>(10404..10467)</td>\n",
       "    </tr>\n",
       "    <tr>\n",
       "      <th>4</th>\n",
       "      <td>pP promoter</td>\n",
       "      <td>(27288..27352)</td>\n",
       "    </tr>\n",
       "    <tr>\n",
       "      <th>5</th>\n",
       "      <td>Pm promoter</td>\n",
       "      <td>(9178..9234)</td>\n",
       "    </tr>\n",
       "    <tr>\n",
       "      <th>6</th>\n",
       "      <td>A1 promoter; A2 promoter; A3 promoter; B promo...</td>\n",
       "      <td>(452..508); (579..636); (704..760); (1468..151...</td>\n",
       "    </tr>\n",
       "    <tr>\n",
       "      <th>7</th>\n",
       "      <td>PI promoter; PL1 promoter; PL2 promoter</td>\n",
       "      <td>complement(29062..29114); complement(35572..35...</td>\n",
       "    </tr>\n",
       "    <tr>\n",
       "      <th>8</th>\n",
       "      <td>PR promoter</td>\n",
       "      <td>(37978..38033)</td>\n",
       "    </tr>\n",
       "    <tr>\n",
       "      <th>9</th>\n",
       "      <td>PR' promoter</td>\n",
       "      <td>(44542..44598)</td>\n",
       "    </tr>\n",
       "    <tr>\n",
       "      <th>10</th>\n",
       "      <td>PRM promoter</td>\n",
       "      <td>complement(37930..37985)</td>\n",
       "    </tr>\n",
       "    <tr>\n",
       "      <th>11</th>\n",
       "      <td>promoter</td>\n",
       "      <td>complement(21114..21141)</td>\n",
       "    </tr>\n",
       "    <tr>\n",
       "      <th>12</th>\n",
       "      <td>Promoter</td>\n",
       "      <td>complement(30892..30920)</td>\n",
       "    </tr>\n",
       "  </tbody>\n",
       "</table>\n",
       "</div>"
      ],
      "text/plain": [
       "                                             Promoter  \\\n",
       "0                                       pGEM promoter   \n",
       "1                                       pMom promoter   \n",
       "2                                         pI promoter   \n",
       "3                                       pLyz promoter   \n",
       "4                                         pP promoter   \n",
       "5                                         Pm promoter   \n",
       "6   A1 promoter; A2 promoter; A3 promoter; B promo...   \n",
       "7             PI promoter; PL1 promoter; PL2 promoter   \n",
       "8                                         PR promoter   \n",
       "9                                        PR' promoter   \n",
       "10                                       PRM promoter   \n",
       "11                                           promoter   \n",
       "12                                           Promoter   \n",
       "\n",
       "                                             position  \n",
       "0                                        (8142..8229)  \n",
       "1                                      (35694..35757)  \n",
       "2                                      (17978..18042)  \n",
       "3                                      (10404..10467)  \n",
       "4                                      (27288..27352)  \n",
       "5                                        (9178..9234)  \n",
       "6   (452..508); (579..636); (704..760); (1468..151...  \n",
       "7   complement(29062..29114); complement(35572..35...  \n",
       "8                                      (37978..38033)  \n",
       "9                                      (44542..44598)  \n",
       "10                           complement(37930..37985)  \n",
       "11                           complement(21114..21141)  \n",
       "12                           complement(30892..30920)  "
      ]
     },
     "execution_count": 20,
     "metadata": {},
     "output_type": "execute_result"
    }
   ],
   "source": [
    "promoter = phages_table.loc[:, 'Promoter':'position']\n",
    "promoter"
   ]
  },
  {
   "cell_type": "code",
   "execution_count": 22,
   "id": "c783a9a7",
   "metadata": {},
   "outputs": [
    {
     "data": {
      "text/plain": [
       "[('pGEM promoter', '(8142..8229)'),\n",
       " ('pMom promoter', '(35694..35757)'),\n",
       " ('pI promoter', '(17978..18042)'),\n",
       " ('pLyz promoter', '(10404..10467)'),\n",
       " ('pP promoter', '(27288..27352)'),\n",
       " ('Pm promoter', '(9178..9234)'),\n",
       " ('A1 promoter', '(452..508)'),\n",
       " (' A2 promoter', ' (579..636)'),\n",
       " (' A3 promoter', ' (704..760)'),\n",
       " (' B promoter', ' (1468..1516)'),\n",
       " (' C promoter', ' (3068..3123)'),\n",
       " (' phi1.1A promoter', ' (5821..5858)'),\n",
       " (' phi1.1B promoter', ' (5896..5933)'),\n",
       " (' phi1.3 promoter', ' (6382..6419)'),\n",
       " ('PI promoter', 'complement(29062..29114)'),\n",
       " (' PL1 promoter', ' complement(35572..35627)'),\n",
       " (' PL2 promoter', ' complement(35614..35668)'),\n",
       " ('PR promoter', '(37978..38033)'),\n",
       " (\"PR' promoter\", '(44542..44598)'),\n",
       " ('PRM promoter', 'complement(37930..37985)'),\n",
       " ('promoter', 'complement(21114..21141)'),\n",
       " ('Promoter', 'complement(30892..30920)')]"
      ]
     },
     "execution_count": 22,
     "metadata": {},
     "output_type": "execute_result"
    }
   ],
   "source": [
    "insert_promoter = []\n",
    "    \n",
    "for p in range(len(promoter['Promoter'])):\n",
    "    row_list = promoter.loc[p, :].values.flatten().tolist()\n",
    "    if len(row_list[0].split(';')) > 1:\n",
    "        pros = row_list[0].split(';')\n",
    "        pos = row_list[1].split(';')\n",
    "        for pr in range(len(pros)):\n",
    "            insert_promoter.append(tuple([pros[pr], pos[pr]]))\n",
    "    else:\n",
    "        insert_promoter.append(tuple(row_list))\n",
    "insert_promoter"
   ]
  },
  {
   "cell_type": "markdown",
   "id": "0d37540f",
   "metadata": {},
   "source": [
    "Now to associate with the operons we have to create a list with the operons ids"
   ]
  },
  {
   "cell_type": "code",
   "execution_count": 23,
   "id": "7c63671b",
   "metadata": {},
   "outputs": [],
   "source": [
    "insert_operon_promoter = [1,2,3,4,5,6,7,7,7,7,7,7,7,7,8,8,8,9,10,11,12,13]"
   ]
  },
  {
   "cell_type": "markdown",
   "id": "6f79ccb8",
   "metadata": {},
   "source": [
    "Writing the file insert_promoter.py, with 2 variables: insert_promoter (a INSERT command) and promoter_records (list of tuples with the values to insert into the database)"
   ]
  },
  {
   "cell_type": "code",
   "execution_count": 26,
   "id": "3d028ede",
   "metadata": {},
   "outputs": [],
   "source": [
    "f = open('insert_promoter.py', 'a',  encoding=\"utf-8\")\n",
    "f.write(\"insert_promoter='INSERT INTO PhageOperonDB.Promoter (Name, Position, Operon_id) VALUES (%s, %s, %s)'\\n\")\n",
    "f.write(\"promoter_records= [\")\n",
    "i = 0\n",
    "for t in insert_promoter:\n",
    "    #print(t[1])\n",
    "    #t = str(t)\n",
    "    f.write('(\"' + t[0] + '\",\"' + str(t[1])  + '\",' + str(insert_operon_promoter[i])  + ')')\n",
    "    f.write(',')\n",
    "    i += 1\n",
    "f.write(\"]\")\n",
    "f.close()"
   ]
  },
  {
   "cell_type": "markdown",
   "id": "4e67e4ba",
   "metadata": {},
   "source": [
    "# Data for the Terminator table"
   ]
  },
  {
   "cell_type": "code",
   "execution_count": 27,
   "id": "d240ff81",
   "metadata": {
    "scrolled": true
   },
   "outputs": [
    {
     "data": {
      "text/html": [
       "<div>\n",
       "<style scoped>\n",
       "    .dataframe tbody tr th:only-of-type {\n",
       "        vertical-align: middle;\n",
       "    }\n",
       "\n",
       "    .dataframe tbody tr th {\n",
       "        vertical-align: top;\n",
       "    }\n",
       "\n",
       "    .dataframe thead th {\n",
       "        text-align: right;\n",
       "    }\n",
       "</style>\n",
       "<table border=\"1\" class=\"dataframe\">\n",
       "  <thead>\n",
       "    <tr style=\"text-align: right;\">\n",
       "      <th></th>\n",
       "      <th>Terminator</th>\n",
       "      <th>Position</th>\n",
       "    </tr>\n",
       "  </thead>\n",
       "  <tbody>\n",
       "    <tr>\n",
       "      <th>0</th>\n",
       "      <td>t9.2 terminator</td>\n",
       "      <td>(9166..9206)</td>\n",
       "    </tr>\n",
       "    <tr>\n",
       "      <th>1</th>\n",
       "      <td>tMom terminator</td>\n",
       "      <td>(36642..36689)</td>\n",
       "    </tr>\n",
       "    <tr>\n",
       "      <th>2</th>\n",
       "      <td>NaN</td>\n",
       "      <td>NaN</td>\n",
       "    </tr>\n",
       "    <tr>\n",
       "      <th>3</th>\n",
       "      <td>tLys(b) terminator</td>\n",
       "      <td>(17907..17962); (17920..17959)</td>\n",
       "    </tr>\n",
       "    <tr>\n",
       "      <th>4</th>\n",
       "      <td>tP(G+) terminator; tP(G-) terminator</td>\n",
       "      <td>(33498..33537); (33498..33537)</td>\n",
       "    </tr>\n",
       "    <tr>\n",
       "      <th>5</th>\n",
       "      <td>tM terminator</td>\n",
       "      <td>(10370..10416)</td>\n",
       "    </tr>\n",
       "    <tr>\n",
       "      <th>6</th>\n",
       "      <td>TE terminator</td>\n",
       "      <td>(7552..7591)</td>\n",
       "    </tr>\n",
       "    <tr>\n",
       "      <th>7</th>\n",
       "      <td>tI terminator; tL1 terminator; tL2 terminator;...</td>\n",
       "      <td>complement(27533..27588); complement(34556..34...</td>\n",
       "    </tr>\n",
       "    <tr>\n",
       "      <th>8</th>\n",
       "      <td>tR1 terminator; tR2 terminator</td>\n",
       "      <td>(38294..38335); (40586..40629)</td>\n",
       "    </tr>\n",
       "    <tr>\n",
       "      <th>9</th>\n",
       "      <td>tR' terminator</td>\n",
       "      <td>(44714..44782)</td>\n",
       "    </tr>\n",
       "    <tr>\n",
       "      <th>10</th>\n",
       "      <td>NaN</td>\n",
       "      <td>NaN</td>\n",
       "    </tr>\n",
       "    <tr>\n",
       "      <th>11</th>\n",
       "      <td>terminator</td>\n",
       "      <td>complement(18214..18245)</td>\n",
       "    </tr>\n",
       "    <tr>\n",
       "      <th>12</th>\n",
       "      <td>NaN</td>\n",
       "      <td>NaN</td>\n",
       "    </tr>\n",
       "  </tbody>\n",
       "</table>\n",
       "</div>"
      ],
      "text/plain": [
       "                                           Terminator  \\\n",
       "0                                     t9.2 terminator   \n",
       "1                                     tMom terminator   \n",
       "2                                                 NaN   \n",
       "3                                  tLys(b) terminator   \n",
       "4                tP(G+) terminator; tP(G-) terminator   \n",
       "5                                       tM terminator   \n",
       "6                                       TE terminator   \n",
       "7   tI terminator; tL1 terminator; tL2 terminator;...   \n",
       "8                      tR1 terminator; tR2 terminator   \n",
       "9                                      tR' terminator   \n",
       "10                                                NaN   \n",
       "11                                         terminator   \n",
       "12                                                NaN   \n",
       "\n",
       "                                             Position  \n",
       "0                                        (9166..9206)  \n",
       "1                                      (36642..36689)  \n",
       "2                                                 NaN  \n",
       "3                      (17907..17962); (17920..17959)  \n",
       "4                      (33498..33537); (33498..33537)  \n",
       "5                                      (10370..10416)  \n",
       "6                                        (7552..7591)  \n",
       "7   complement(27533..27588); complement(34556..34...  \n",
       "8                      (38294..38335); (40586..40629)  \n",
       "9                                      (44714..44782)  \n",
       "10                                                NaN  \n",
       "11                           complement(18214..18245)  \n",
       "12                                                NaN  "
      ]
     },
     "execution_count": 27,
     "metadata": {},
     "output_type": "execute_result"
    }
   ],
   "source": [
    "terminator = phages_table.loc[:, 'Terminator':'Position']\n",
    "terminator"
   ]
  },
  {
   "cell_type": "code",
   "execution_count": 28,
   "id": "fe70fb6e",
   "metadata": {},
   "outputs": [
    {
     "data": {
      "text/plain": [
       "[('t9.2 terminator', '(9166..9206)'),\n",
       " ('tMom terminator', '(36642..36689)'),\n",
       " ('tLys(b) terminator', '(17907..17962); (17920..17959)'),\n",
       " ('tP(G+) terminator', 'tP(G+) terminator'),\n",
       " (' tP(G-) terminator', ' tP(G-) terminator'),\n",
       " ('tM terminator', '(10370..10416)'),\n",
       " ('TE terminator', '(7552..7591)'),\n",
       " ('tI terminator', 'tI terminator'),\n",
       " (' tL1 terminator', ' tL1 terminator'),\n",
       " (' tL2 terminator', ' tL2 terminator'),\n",
       " (' tL3 terminator', ' tL3 terminator'),\n",
       " ('tR1 terminator', 'tR1 terminator'),\n",
       " (' tR2 terminator', ' tR2 terminator'),\n",
       " (\"tR' terminator\", '(44714..44782)'),\n",
       " ('terminator', 'complement(18214..18245)')]"
      ]
     },
     "execution_count": 28,
     "metadata": {},
     "output_type": "execute_result"
    }
   ],
   "source": [
    "insert_terminator = []\n",
    "    \n",
    "for t in range(len(terminator['Terminator'])):\n",
    "    row_list = terminator.loc[t, :].values.flatten().tolist()\n",
    "    if str(row_list[0]) != 'nan':\n",
    "        if len(row_list[0].split(';')) > 1:\n",
    "            ter = row_list[0].split(';')\n",
    "            pos = row_list[1].split(';')\n",
    "            for tr in range(len(ter)):\n",
    "                insert_terminator.append(tuple([ter[tr], ter[tr]]))\n",
    "        else:\n",
    "            insert_terminator.append(tuple(row_list))\n",
    "insert_terminator"
   ]
  },
  {
   "cell_type": "code",
   "execution_count": 29,
   "id": "8934e49f",
   "metadata": {},
   "outputs": [],
   "source": [
    "insert_operon_terminator = [1,2,4,5,5,6,7,8,8,8,8,9,9,10,12]"
   ]
  },
  {
   "cell_type": "markdown",
   "id": "8347f93c",
   "metadata": {},
   "source": [
    "Writing the file insert_terminator.py, with 2 variables: insert_terminator (a INSERT command) and terminator_records (list of tuples with the values to insert into the database)"
   ]
  },
  {
   "cell_type": "code",
   "execution_count": 30,
   "id": "b6054caa",
   "metadata": {},
   "outputs": [],
   "source": [
    "f = open('insert_terminator.py', 'a',  encoding=\"utf-8\")\n",
    "f.write(\"insert_terminator ='INSERT INTO PhageOperonDB.Terminator (Name, Position, Operon_id) VALUES (%s, %s, %s)'\\n\")\n",
    "f.write(\"terminator_records = [\")\n",
    "i = 0\n",
    "for t in insert_terminator:\n",
    "    f.write('(\"' + t[0] + '\",\"' + str(t[1])  + '\",' + str(insert_operon_terminator[i])  + ')')\n",
    "    f.write(',')\n",
    "    i += 1\n",
    "f.write(\"]\")\n",
    "f.close()"
   ]
  },
  {
   "cell_type": "markdown",
   "id": "34b495d9",
   "metadata": {},
   "source": [
    "# Data for the Org_has_Operon table"
   ]
  },
  {
   "cell_type": "code",
   "execution_count": 32,
   "id": "66dbf65a",
   "metadata": {},
   "outputs": [
    {
     "data": {
      "text/plain": [
       "['NC_000929',\n",
       " 'NC_000929',\n",
       " 'NC_000929',\n",
       " 'NC_000929',\n",
       " 'NC_000929',\n",
       " 'NC_000929',\n",
       " 'NC_001604',\n",
       " 'NC_001416',\n",
       " 'NC_001416',\n",
       " 'NC_001416',\n",
       " 'NC_001416',\n",
       " 'NC_002371',\n",
       " 'NC_002371']"
      ]
     },
     "execution_count": 32,
     "metadata": {},
     "output_type": "execute_result"
    }
   ],
   "source": [
    "ref_seq_org = phages_table.loc[:, 'Ref Seq'].tolist()\n",
    "ref_seq_org"
   ]
  },
  {
   "cell_type": "code",
   "execution_count": 42,
   "id": "5c26fc3f",
   "metadata": {},
   "outputs": [
    {
     "data": {
      "text/plain": [
       "[1, 2, 3, 4, 5, 6, 7, 8, 9, 10, 11, 12, 13]"
      ]
     },
     "execution_count": 42,
     "metadata": {},
     "output_type": "execute_result"
    }
   ],
   "source": [
    "ope_org = list(range(1,14))\n",
    "ope_org"
   ]
  },
  {
   "cell_type": "markdown",
   "id": "346ca659",
   "metadata": {},
   "source": [
    "Writing the file insert_org_has_ope.py, with 2 variables: insert_org_has_ope (a INSERT command) and org_has_ope_records (list of tuples with the values to insert into the database)"
   ]
  },
  {
   "cell_type": "code",
   "execution_count": 44,
   "id": "4d71e1cc",
   "metadata": {},
   "outputs": [],
   "source": [
    "f = open('insert_org_has_ope.py', 'a',  encoding=\"utf-8\")\n",
    "f.write(\"insert_org_has_ope ='INSERT INTO PhageOperonDB.Organism_has_Operon (RefSeq, Operon_id) VALUES (%s, %s)'\\n\")\n",
    "f.write(\"org_has_ope_records = [\")\n",
    "i = 0\n",
    "for t in ref_seq_org:\n",
    "    f.write('(\"' + t + '\",' + str(ope_org[i])  + ')')\n",
    "    f.write(',')\n",
    "    i += 1\n",
    "f.write(\"]\")\n",
    "f.close()"
   ]
  },
  {
   "cell_type": "markdown",
   "id": "4da2073b",
   "metadata": {},
   "source": [
    "# Data for the Org_has_Gene table"
   ]
  },
  {
   "cell_type": "code",
   "execution_count": 47,
   "id": "48113531",
   "metadata": {
    "scrolled": true
   },
   "outputs": [
    {
     "data": {
      "text/plain": [
       "['2636256',\n",
       " '2636272',\n",
       " '2636254',\n",
       " '2636302',\n",
       " '2636253',\n",
       " '2636276',\n",
       " '2636267',\n",
       " '2636251',\n",
       " '2636296',\n",
       " '2636286',\n",
       " '2636273',\n",
       " '2636269',\n",
       " '2636260',\n",
       " '2636287',\n",
       " '2636275',\n",
       " ' 2636283',\n",
       " '2636261',\n",
       " '2636265',\n",
       " '2636252',\n",
       " '2636263',\n",
       " '2636255',\n",
       " '2636271',\n",
       " '2636303',\n",
       " '2636304',\n",
       " '2636300',\n",
       " '2636282',\n",
       " '2636285',\n",
       " '2636280',\n",
       " '2636291',\n",
       " '2636250',\n",
       " '2636277',\n",
       " '2636293',\n",
       " '2636270',\n",
       " '2636281',\n",
       " '2636295',\n",
       " '2636298',\n",
       " '2636301',\n",
       " '1261063',\n",
       " '1261053',\n",
       " '1261070',\n",
       " '1261051',\n",
       " '1261061',\n",
       " '1261071',\n",
       " '1261050',\n",
       " '1261049',\n",
       " '1261072',\n",
       " '1261055',\n",
       " '2703540',\n",
       " '2703510',\n",
       " '2703473',\n",
       " '2703541',\n",
       " '3827056',\n",
       " '3827057',\n",
       " '2703509',\n",
       " '3827055',\n",
       " '2703522',\n",
       " '2703508',\n",
       " '2703507',\n",
       " '2703506',\n",
       " '3827054',\n",
       " '2703505',\n",
       " '2703530',\n",
       " '2703504',\n",
       " '2703470',\n",
       " '2703467',\n",
       " '2703494',\n",
       " '3827060',\n",
       " '2703495',\n",
       " '2703496',\n",
       " '2703497',\n",
       " '2703498',\n",
       " '2703499',\n",
       " '2703500',\n",
       " '2703501',\n",
       " '2703474',\n",
       " '2703475',\n",
       " '2703476',\n",
       " '2703477',\n",
       " '2703478',\n",
       " '2703479',\n",
       " '5740919',\n",
       " '2703480',\n",
       " '2703481',\n",
       " '5739319',\n",
       " '3827059',\n",
       " '3827058',\n",
       " '2703493',\n",
       " '1262849',\n",
       " '1262848',\n",
       " '2944240',\n",
       " '1262841',\n",
       " '2944229',\n",
       " '1262810',\n",
       " '1262811',\n",
       " '1262843',\n",
       " '1262791',\n",
       " '1262789',\n",
       " '1262787',\n",
       " '1262785',\n",
       " '1262850',\n",
       " '1262800',\n",
       " '1262802',\n",
       " '1262804']"
      ]
     },
     "execution_count": 47,
     "metadata": {},
     "output_type": "execute_result"
    }
   ],
   "source": [
    "gene_ids = []\n",
    "for gi in list_of_genes:\n",
    "    gene_ids.append(gi[1])\n",
    "gene_ids\n",
    "    "
   ]
  },
  {
   "cell_type": "code",
   "execution_count": 61,
   "id": "17d6d261",
   "metadata": {},
   "outputs": [
    {
     "data": {
      "text/plain": [
       "['NC_000929', 'NC_001604', 'NC_001416', 'NC_002371']"
      ]
     },
     "execution_count": 61,
     "metadata": {},
     "output_type": "execute_result"
    }
   ],
   "source": [
    "list_org_for_genes = organisms['Ref Seq'].tolist()\n",
    "list_org_for_genes"
   ]
  },
  {
   "cell_type": "code",
   "execution_count": 69,
   "id": "699cb359",
   "metadata": {
    "scrolled": true
   },
   "outputs": [
    {
     "data": {
      "text/plain": [
       "['NC_000929',\n",
       " 'NC_000929',\n",
       " 'NC_000929',\n",
       " 'NC_000929',\n",
       " 'NC_000929',\n",
       " 'NC_000929',\n",
       " 'NC_000929',\n",
       " 'NC_000929',\n",
       " 'NC_000929',\n",
       " 'NC_000929',\n",
       " 'NC_000929',\n",
       " 'NC_000929',\n",
       " 'NC_000929',\n",
       " 'NC_000929',\n",
       " 'NC_000929',\n",
       " 'NC_000929',\n",
       " 'NC_000929',\n",
       " 'NC_000929',\n",
       " 'NC_000929',\n",
       " 'NC_000929',\n",
       " 'NC_000929',\n",
       " 'NC_000929',\n",
       " 'NC_000929',\n",
       " 'NC_000929',\n",
       " 'NC_000929',\n",
       " 'NC_000929',\n",
       " 'NC_000929',\n",
       " 'NC_000929',\n",
       " 'NC_000929',\n",
       " 'NC_000929',\n",
       " 'NC_000929',\n",
       " 'NC_000929',\n",
       " 'NC_000929',\n",
       " 'NC_000929',\n",
       " 'NC_000929',\n",
       " 'NC_000929',\n",
       " 'NC_000929',\n",
       " 'NC_001604',\n",
       " 'NC_001604',\n",
       " 'NC_001604',\n",
       " 'NC_001604',\n",
       " 'NC_001604',\n",
       " 'NC_001604',\n",
       " 'NC_001604',\n",
       " 'NC_001604',\n",
       " 'NC_001604',\n",
       " 'NC_001604',\n",
       " 'NC_001416',\n",
       " 'NC_001416',\n",
       " 'NC_001416',\n",
       " 'NC_001416',\n",
       " 'NC_001416',\n",
       " 'NC_001416',\n",
       " 'NC_001416',\n",
       " 'NC_001416',\n",
       " 'NC_001416',\n",
       " 'NC_001416',\n",
       " 'NC_001416',\n",
       " 'NC_001416',\n",
       " 'NC_001416',\n",
       " 'NC_001416',\n",
       " 'NC_001416',\n",
       " 'NC_001416',\n",
       " 'NC_001416',\n",
       " 'NC_001416',\n",
       " 'NC_001416',\n",
       " 'NC_001416',\n",
       " 'NC_001416',\n",
       " 'NC_001416',\n",
       " 'NC_001416',\n",
       " 'NC_001416',\n",
       " 'NC_001416',\n",
       " 'NC_001416',\n",
       " 'NC_001416',\n",
       " 'NC_001416',\n",
       " 'NC_001416',\n",
       " 'NC_001416',\n",
       " 'NC_001416',\n",
       " 'NC_001416',\n",
       " 'NC_001416',\n",
       " 'NC_001416',\n",
       " 'NC_001416',\n",
       " 'NC_001416',\n",
       " 'NC_001416',\n",
       " 'NC_001416',\n",
       " 'NC_001416',\n",
       " 'NC_001416',\n",
       " 'NC_002371',\n",
       " 'NC_002371',\n",
       " 'NC_002371',\n",
       " 'NC_002371',\n",
       " 'NC_002371',\n",
       " 'NC_002371',\n",
       " 'NC_002371',\n",
       " 'NC_002371',\n",
       " 'NC_002371',\n",
       " 'NC_002371',\n",
       " 'NC_002371',\n",
       " 'NC_002371',\n",
       " 'NC_002371',\n",
       " 'NC_002371',\n",
       " 'NC_002371',\n",
       " 'NC_002371']"
      ]
     },
     "execution_count": 69,
     "metadata": {},
     "output_type": "execute_result"
    }
   ],
   "source": [
    "org_gene = []\n",
    "times_refseq = [37,10,40,16]\n",
    "k = 0\n",
    "for i in list_org_for_genes:\n",
    "    for j in range(0,times_refseq[k]):\n",
    "        org_gene.append(i)\n",
    "    k += 1\n",
    "org_gene\n",
    "        "
   ]
  },
  {
   "cell_type": "markdown",
   "id": "05350a91",
   "metadata": {},
   "source": [
    "Writing the file insert_org_has_gene.py, with 2 variables: insert_org_has_gene (a INSERT command) and insert_org_has_gene (list of tuples with the values to insert into the database)"
   ]
  },
  {
   "cell_type": "code",
   "execution_count": 72,
   "id": "1fbfba68",
   "metadata": {},
   "outputs": [],
   "source": [
    "f = open('insert_org_has_gene.py', 'a',  encoding=\"utf-8\")\n",
    "f.write(\"insert_org_has_gene = 'INSERT INTO PhageOperonDB.Organism_has_Gene (RefSeq, Geneid) VALUES (%s, %s)'\\n\")\n",
    "f.write(\"org_has_gene_records = [\")\n",
    "i = 0\n",
    "for t in org_gene:\n",
    "    f.write('(\"' + t + '\",\"' + str(gene_ids[i])  + '\")')\n",
    "    f.write(',')\n",
    "    i += 1\n",
    "f.write(\"]\")\n",
    "f.close()"
   ]
  }
 ],
 "metadata": {
  "kernelspec": {
   "display_name": "Python 3 (ipykernel)",
   "language": "python",
   "name": "python3"
  },
  "language_info": {
   "codemirror_mode": {
    "name": "ipython",
    "version": 3
   },
   "file_extension": ".py",
   "mimetype": "text/x-python",
   "name": "python",
   "nbconvert_exporter": "python",
   "pygments_lexer": "ipython3",
   "version": "3.7.9"
  }
 },
 "nbformat": 4,
 "nbformat_minor": 5
}
